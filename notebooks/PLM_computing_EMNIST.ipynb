{
 "cells": [
  {
   "cell_type": "markdown",
   "id": "000e6b04-3e3a-4df1-8627-87d0523c639d",
   "metadata": {},
   "source": [
    "# Importing packages"
   ]
  },
  {
   "cell_type": "code",
   "execution_count": 1,
   "id": "48ce067c-725d-488b-8b65-c36ff4fc4be4",
   "metadata": {},
   "outputs": [],
   "source": [
    "import sys\n",
    "sys.path.append('/home/gasanoe/fedmix_on_fedjax/src/')"
   ]
  },
  {
   "cell_type": "code",
   "execution_count": 2,
   "id": "a5930b1a-0489-46ae-9bd8-1b5c1d0471bf",
   "metadata": {},
   "outputs": [
    {
     "name": "stderr",
     "output_type": "stream",
     "text": [
      "2021-10-28 23:35:23.914784: W tensorflow/stream_executor/platform/default/dso_loader.cc:59] Could not load dynamic library 'libcudart.so.10.1'; dlerror: libcudart.so.10.1: cannot open shared object file: No such file or directory\n"
     ]
    }
   ],
   "source": [
    "from absl import app\n",
    "import time\n",
    "\n",
    "import fedjax\n",
    "from fedjax.core import tree_util\n",
    "\n",
    "import jax\n",
    "import jax.numpy as jnp\n",
    "\n",
    "import PLM\n",
    "import itertools\n",
    "import FedMix"
   ]
  },
  {
   "cell_type": "code",
   "execution_count": 22,
   "id": "021f99c7-33d5-467b-93dc-cc15f780265a",
   "metadata": {},
   "outputs": [],
   "source": [
    "import pandas as pd"
   ]
  },
  {
   "cell_type": "code",
   "execution_count": 57,
   "id": "61dd5309-726a-4cfb-8b8f-2c495aa43ddc",
   "metadata": {},
   "outputs": [],
   "source": [
    "import pickle"
   ]
  },
  {
   "cell_type": "markdown",
   "id": "d354da6a-016d-4cd2-87a7-716eb9ec7c4f",
   "metadata": {
    "tags": []
   },
   "source": [
    "# GridSearch"
   ]
  },
  {
   "cell_type": "code",
   "execution_count": 3,
   "id": "db531897-a646-4418-994d-523f3fb5835b",
   "metadata": {},
   "outputs": [
    {
     "name": "stderr",
     "output_type": "stream",
     "text": [
      "Reusing cached file '/home/gasanoe/.cache/fedjax/federated_emnist_train.sqlite'\n",
      "Reusing cached file '/home/gasanoe/.cache/fedjax/federated_emnist_test.sqlite'\n"
     ]
    }
   ],
   "source": [
    "train_fd, test_fd = fedjax.datasets.emnist.load_data(only_digits=False, cache_dir='../data/')"
   ]
  },
  {
   "cell_type": "code",
   "execution_count": 4,
   "id": "41de1484-d988-4f2d-bc9c-11579d1447fc",
   "metadata": {},
   "outputs": [],
   "source": [
    "fedjax.set_for_each_client_backend('pmap')"
   ]
  },
  {
   "cell_type": "code",
   "execution_count": 5,
   "id": "7bf012b6-f3a3-4d74-8295-7833d0ee1788",
   "metadata": {},
   "outputs": [],
   "source": [
    "model = fedjax.models.emnist.create_conv_model(only_digits=False)"
   ]
  },
  {
   "cell_type": "code",
   "execution_count": 6,
   "id": "4c3921f1-8668-4e6c-b61d-095ee002b670",
   "metadata": {},
   "outputs": [],
   "source": [
    "def loss(params, batch, rng):\n",
    "    # `rng` used with `apply_for_train` to apply dropout during training.\n",
    "    preds = model.apply_for_train(params, batch, rng)\n",
    "    # Per example loss of shape [batch_size].\n",
    "    example_loss = model.train_loss(batch, preds)\n",
    "    return jnp.mean(example_loss)"
   ]
  },
  {
   "cell_type": "code",
   "execution_count": 7,
   "id": "c6c7b517-1263-4242-87d5-5e5eb3fd7862",
   "metadata": {},
   "outputs": [],
   "source": [
    "grad_fn = jax.jit(jax.grad(loss))"
   ]
  },
  {
   "cell_type": "code",
   "execution_count": 8,
   "id": "ef9d9c6a-fa24-441a-9a6d-c085cc1e9148",
   "metadata": {},
   "outputs": [],
   "source": [
    "def loss_for_eval(params, batch):\n",
    "    preds = model.apply_for_eval(params, batch)\n",
    "    example_loss = model.train_loss(batch, preds)\n",
    "    return jnp.mean(example_loss)"
   ]
  },
  {
   "cell_type": "code",
   "execution_count": 9,
   "id": "75bbf2fe-5c11-4768-864c-8b78a0e46f26",
   "metadata": {},
   "outputs": [],
   "source": [
    "grad_fn_eval = jax.jit(jax.grad(loss_for_eval))"
   ]
  },
  {
   "cell_type": "code",
   "execution_count": 10,
   "id": "16906d85-e208-403e-8c3b-c1d89a77e14a",
   "metadata": {},
   "outputs": [],
   "source": [
    "lrs = 10**jnp.arange(-5, 1.5, 0.5) # learning rates\n",
    "batch_sizes = [10, 20, 50, 100]"
   ]
  },
  {
   "cell_type": "code",
   "execution_count": null,
   "id": "0e4f468a-4d9a-44a9-80dd-f0aa533e05c5",
   "metadata": {},
   "outputs": [],
   "source": [
    "# # For debugging purposes, we first run the code for smaller number of parameters\n",
    "# lrs = [0.1, 0.01]\n",
    "# batch_sizes = [10, 20]"
   ]
  },
  {
   "cell_type": "code",
   "execution_count": 11,
   "id": "83e20cce-428d-4531-af16-4d518b21e025",
   "metadata": {},
   "outputs": [],
   "source": [
    "num_epochs = 200\n",
    "max_rounds_for_grid_search = 50\n",
    "num_clients_per_round = 4"
   ]
  },
  {
   "cell_type": "code",
   "execution_count": 12,
   "id": "e0155dc9-589b-4478-a7a8-1ae54c632e59",
   "metadata": {},
   "outputs": [],
   "source": [
    "GridSearch_table = jnp.zeros(shape=(len(batch_sizes), len(lrs)))"
   ]
  },
  {
   "cell_type": "code",
   "execution_count": null,
   "id": "64d8c213-a60e-4572-b24e-b11a2cdfe8cd",
   "metadata": {},
   "outputs": [
    {
     "name": "stdout",
     "output_type": "stream",
     "text": [
      "Batch size = 10\n",
      "Learning rate = 9.999999747378752e-06\n",
      "Round 6 / 50\r"
     ]
    }
   ],
   "source": [
    "for b_id, batch_size in enumerate(batch_sizes):\n",
    "    print('Batch size = {}'.format(batch_size))\n",
    "    for lr_id, lr in enumerate(lrs):\n",
    "        print('Learning rate = {}'.format(lr))\n",
    "        client_sampler = fedjax.client_samplers.UniformShuffledClientSampler(shuffled_clients_iter=train_fd.clients(), num_clients=num_clients_per_round)\n",
    "        client_optimizer = fedjax.optimizers.sgd(learning_rate=lr)\n",
    "        client_batch_hparams = fedjax.ShuffleRepeatBatchHParams(batch_size=batch_size, num_epochs=num_epochs, drop_remainder=False)\n",
    "        algorithm = PLM.computing_plm(grad_fn, client_optimizer, client_batch_hparams)\n",
    "        # Initialize model parameters and algorithm server state.\n",
    "        init_params = model.init(jax.random.PRNGKey(17))\n",
    "        server_state = algorithm.init(init_params)\n",
    "        rng = jax.random.PRNGKey(10)\n",
    "        acc_grad_norm = 0\n",
    "        for round_num in range(max_rounds_for_grid_search):\n",
    "            print('Round {} / {}'.format(round_num + 1, max_rounds_for_grid_search), end='\\r')\n",
    "            clients = client_sampler.sample()\n",
    "            server_state, _ = algorithm.apply(server_state, clients)\n",
    "            for cid, cds, _ in clients:\n",
    "                grad_eval = grad_fn_eval(server_state.PLM[cid], cds.all_examples())\n",
    "                acc_grad_norm += tree_util.tree_l2_norm(grad_eval)\n",
    "        acc_grad_norm /= num_clients_per_round * max_rounds_for_grid_search\n",
    "        GridSearch_table = GridSearch_table.at[b_id, lr_id].set(acc_grad_norm)"
   ]
  },
  {
   "cell_type": "code",
   "execution_count": 18,
   "id": "77774929-7b0a-490a-8a8d-1ba117ad18e9",
   "metadata": {},
   "outputs": [],
   "source": [
    "GS_save_file_path = '../results/GridSearch_table_PLM_EMNIST.npy'"
   ]
  },
  {
   "cell_type": "code",
   "execution_count": 17,
   "id": "2bd584e2-cd1b-4e86-9adf-a7d46dc489fc",
   "metadata": {},
   "outputs": [],
   "source": [
    "with open(GS_save_file_path, 'wb') as file:\n",
    "    jnp.save(file, GridSearch_table)"
   ]
  },
  {
   "cell_type": "code",
   "execution_count": 19,
   "id": "7af0bb9e-e231-48cc-a608-05232ed77628",
   "metadata": {},
   "outputs": [],
   "source": [
    "with open(GS_save_file_path, 'rb') as file:\n",
    "    GS_table = jnp.load(file)"
   ]
  },
  {
   "cell_type": "code",
   "execution_count": 25,
   "id": "4a54aae5-7227-47a1-893f-7f159106d7a5",
   "metadata": {},
   "outputs": [],
   "source": [
    "df = pd.DataFrame(data=GridSearch_table, index=batch_sizes, columns=lrs)"
   ]
  },
  {
   "cell_type": "code",
   "execution_count": 26,
   "id": "545ed7d5-9437-4d82-9e32-1fe391a1a076",
   "metadata": {},
   "outputs": [
    {
     "data": {
      "text/html": [
       "<div>\n",
       "<style scoped>\n",
       "    .dataframe tbody tr th:only-of-type {\n",
       "        vertical-align: middle;\n",
       "    }\n",
       "\n",
       "    .dataframe tbody tr th {\n",
       "        vertical-align: top;\n",
       "    }\n",
       "\n",
       "    .dataframe thead th {\n",
       "        text-align: right;\n",
       "    }\n",
       "</style>\n",
       "<table border=\"1\" class=\"dataframe\">\n",
       "  <thead>\n",
       "    <tr style=\"text-align: right;\">\n",
       "      <th></th>\n",
       "      <th>0.000010</th>\n",
       "      <th>0.000032</th>\n",
       "      <th>0.000100</th>\n",
       "      <th>0.000316</th>\n",
       "      <th>0.001000</th>\n",
       "      <th>0.003162</th>\n",
       "      <th>0.010000</th>\n",
       "      <th>0.031623</th>\n",
       "      <th>0.100000</th>\n",
       "      <th>0.316228</th>\n",
       "      <th>1.000000</th>\n",
       "      <th>3.162278</th>\n",
       "      <th>10.000000</th>\n",
       "    </tr>\n",
       "  </thead>\n",
       "  <tbody>\n",
       "    <tr>\n",
       "      <th>10</th>\n",
       "      <td>0.867310</td>\n",
       "      <td>0.870549</td>\n",
       "      <td>1.125243</td>\n",
       "      <td>1.467449</td>\n",
       "      <td>1.274870</td>\n",
       "      <td>0.374492</td>\n",
       "      <td>0.110295</td>\n",
       "      <td>0.039057</td>\n",
       "      <td>0.006099</td>\n",
       "      <td>NaN</td>\n",
       "      <td>NaN</td>\n",
       "      <td>NaN</td>\n",
       "      <td>NaN</td>\n",
       "    </tr>\n",
       "    <tr>\n",
       "      <th>20</th>\n",
       "      <td>0.880320</td>\n",
       "      <td>0.858000</td>\n",
       "      <td>0.919690</td>\n",
       "      <td>1.340670</td>\n",
       "      <td>1.482529</td>\n",
       "      <td>0.986030</td>\n",
       "      <td>0.198914</td>\n",
       "      <td>0.085241</td>\n",
       "      <td>0.025094</td>\n",
       "      <td>0.002671</td>\n",
       "      <td>NaN</td>\n",
       "      <td>NaN</td>\n",
       "      <td>NaN</td>\n",
       "    </tr>\n",
       "    <tr>\n",
       "      <th>50</th>\n",
       "      <td>0.890215</td>\n",
       "      <td>0.876242</td>\n",
       "      <td>0.857571</td>\n",
       "      <td>0.966081</td>\n",
       "      <td>1.411649</td>\n",
       "      <td>1.408732</td>\n",
       "      <td>0.765323</td>\n",
       "      <td>0.171495</td>\n",
       "      <td>0.067144</td>\n",
       "      <td>0.019246</td>\n",
       "      <td>NaN</td>\n",
       "      <td>NaN</td>\n",
       "      <td>NaN</td>\n",
       "    </tr>\n",
       "    <tr>\n",
       "      <th>100</th>\n",
       "      <td>0.893815</td>\n",
       "      <td>0.886509</td>\n",
       "      <td>0.867329</td>\n",
       "      <td>0.870285</td>\n",
       "      <td>1.123945</td>\n",
       "      <td>1.468839</td>\n",
       "      <td>1.282055</td>\n",
       "      <td>0.400923</td>\n",
       "      <td>0.118202</td>\n",
       "      <td>0.035662</td>\n",
       "      <td>0.037071</td>\n",
       "      <td>NaN</td>\n",
       "      <td>NaN</td>\n",
       "    </tr>\n",
       "  </tbody>\n",
       "</table>\n",
       "</div>"
      ],
      "text/plain": [
       "     0.000010   0.000032   0.000100   0.000316   0.001000   0.003162   \\\n",
       "10    0.867310   0.870549   1.125243   1.467449   1.274870   0.374492   \n",
       "20    0.880320   0.858000   0.919690   1.340670   1.482529   0.986030   \n",
       "50    0.890215   0.876242   0.857571   0.966081   1.411649   1.408732   \n",
       "100   0.893815   0.886509   0.867329   0.870285   1.123945   1.468839   \n",
       "\n",
       "     0.010000   0.031623   0.100000   0.316228   1.000000   3.162278   \\\n",
       "10    0.110295   0.039057   0.006099        NaN        NaN        NaN   \n",
       "20    0.198914   0.085241   0.025094   0.002671        NaN        NaN   \n",
       "50    0.765323   0.171495   0.067144   0.019246        NaN        NaN   \n",
       "100   1.282055   0.400923   0.118202   0.035662   0.037071        NaN   \n",
       "\n",
       "     10.000000  \n",
       "10         NaN  \n",
       "20         NaN  \n",
       "50         NaN  \n",
       "100        NaN  "
      ]
     },
     "execution_count": 26,
     "metadata": {},
     "output_type": "execute_result"
    }
   ],
   "source": [
    "df"
   ]
  },
  {
   "cell_type": "markdown",
   "id": "2c25d46e-cfac-4e5c-958b-8fca201986f3",
   "metadata": {},
   "source": [
    "# Computing pure local models for all clients"
   ]
  },
  {
   "cell_type": "code",
   "execution_count": 27,
   "id": "f5e00592-ded1-46f4-9530-1f581fc0a48a",
   "metadata": {},
   "outputs": [],
   "source": [
    "batch_size = 20\n",
    "lr = 10 ** (-0.5)"
   ]
  },
  {
   "cell_type": "code",
   "execution_count": 47,
   "id": "2c9d20c9-cb22-4fbb-b2ab-c4e43ddecf52",
   "metadata": {},
   "outputs": [],
   "source": [
    "client_sampler = fedjax.client_samplers.UniformShuffledClientSampler(shuffled_clients_iter=train_fd.clients(), num_clients=num_clients_per_round)\n",
    "client_optimizer = fedjax.optimizers.sgd(learning_rate=lr)\n",
    "client_batch_hparams = fedjax.ShuffleRepeatBatchHParams(batch_size=batch_size, num_epochs=num_epochs, drop_remainder=False)\n",
    "algorithm = PLM.computing_plm(grad_fn, client_optimizer, client_batch_hparams)"
   ]
  },
  {
   "cell_type": "code",
   "execution_count": 48,
   "id": "3045c8d6-8065-42da-ba89-1a24313c68c0",
   "metadata": {},
   "outputs": [],
   "source": [
    "# Initialize model parameters and algorithm server state.\n",
    "init_params = model.init(jax.random.PRNGKey(10))\n",
    "server_state = algorithm.init(init_params)\n",
    "\n",
    "all_clients_eval_grad_norms = [] # we will use this list to see the distribution of gradient norms at computed solutions"
   ]
  },
  {
   "cell_type": "code",
   "execution_count": 49,
   "id": "2094a6e9-af1b-49fb-9c5c-583d0b244cea",
   "metadata": {},
   "outputs": [],
   "source": [
    "max_possible_rounds = int(train_fd.num_clients() / num_clients_per_round) # all clients should be processed"
   ]
  },
  {
   "cell_type": "code",
   "execution_count": 50,
   "id": "c5f1a10a-d415-4f8f-9016-ac08e10b1af5",
   "metadata": {},
   "outputs": [
    {
     "data": {
      "text/plain": [
       "850"
      ]
     },
     "execution_count": 50,
     "metadata": {},
     "output_type": "execute_result"
    }
   ],
   "source": [
    "max_possible_rounds"
   ]
  },
  {
   "cell_type": "code",
   "execution_count": 51,
   "id": "6506e8ea-6885-4fcd-8dda-027cdd0312ae",
   "metadata": {},
   "outputs": [],
   "source": [
    "# max_possible_rounds = 2 # for debugging"
   ]
  },
  {
   "cell_type": "code",
   "execution_count": null,
   "id": "cfd183dd-aa0d-4f68-9349-a2956060c7fe",
   "metadata": {},
   "outputs": [
    {
     "name": "stdout",
     "output_type": "stream",
     "text": [
      "Round 323 / 850\r"
     ]
    }
   ],
   "source": [
    "for round_num in range(max_possible_rounds):\n",
    "    print('Round {} / {}'.format(round_num + 1, max_possible_rounds), end='\\r')\n",
    "    clients = client_sampler.sample()\n",
    "    server_state, _ = algorithm.apply(server_state, clients)\n",
    "    for cid, cds, _ in clients:\n",
    "        grad_eval = grad_fn_eval(server_state.PLM[cid], cds.all_examples())\n",
    "        all_clients_eval_grad_norms.append(tree_util.tree_l2_norm(grad_eval))"
   ]
  },
  {
   "cell_type": "code",
   "execution_count": 56,
   "id": "8a14e65b-c63f-48f4-bfe2-f1ec957716f5",
   "metadata": {},
   "outputs": [],
   "source": [
    "save_plm_file = '../results/PLM_EMNIST.pickle'"
   ]
  },
  {
   "cell_type": "code",
   "execution_count": 58,
   "id": "5741f249-b0ec-4e77-b9e6-891c52b2d339",
   "metadata": {},
   "outputs": [],
   "source": [
    "with open(save_plm_file, 'wb') as handle:\n",
    "    pickle.dump(server_state.PLM, handle, protocol=pickle.HIGHEST_PROTOCOL)"
   ]
  },
  {
   "cell_type": "code",
   "execution_count": 59,
   "id": "80bf39db-1b59-4f12-b0fe-2aad63162fb6",
   "metadata": {},
   "outputs": [],
   "source": [
    "save_plm_stat_file = '../results/PLM_EMNIST_stat.pickle'"
   ]
  },
  {
   "cell_type": "code",
   "execution_count": 60,
   "id": "7049c947-1696-4414-aad1-75226f8f800c",
   "metadata": {},
   "outputs": [],
   "source": [
    "with open(save_plm_stat_file, 'wb') as handle:\n",
    "    pickle.dump(all_clients_eval_grad_norms, handle, protocol=pickle.HIGHEST_PROTOCOL)"
   ]
  },
  {
   "cell_type": "markdown",
   "id": "577e4fc4-d1ff-4518-ac2d-ee0a986c1dd9",
   "metadata": {},
   "source": [
    "# Statistics"
   ]
  },
  {
   "cell_type": "code",
   "execution_count": 54,
   "id": "0f6b0fa6-8683-41e8-8853-3a6160af8f0f",
   "metadata": {},
   "outputs": [],
   "source": [
    "from matplotlib import pyplot as plt"
   ]
  },
  {
   "cell_type": "code",
   "execution_count": 61,
   "id": "30a64789-5eb7-437d-aa36-a298b58efa81",
   "metadata": {},
   "outputs": [],
   "source": [
    "all_clients_eval_grad_norms = jnp.array(all_clients_eval_grad_norms)"
   ]
  },
  {
   "cell_type": "code",
   "execution_count": 75,
   "id": "2c41aa85-36d1-401b-9c1b-ccbb52d52856",
   "metadata": {},
   "outputs": [
    {
     "data": {
      "image/png": "[encoded data removed]",
      "text/plain": [
       "<Figure size 432x288 with 1 Axes>"
      ]
     },
     "metadata": {
      "needs_background": "light"
     },
     "output_type": "display_data"
    }
   ],
   "source": [
    "plt.hist(jnp.log10(all_clients_eval_grad_norms), bins=20, density=True, facecolor='g')\n",
    "plt.grid()\n",
    "plt.xlabel('log_10 client grad norm')\n",
    "plt.ylabel('Density')\n",
    "plt.title('Grad norm distribution for PLMs')\n",
    "plt.tight_layout()\n",
    "plt.savefig('../results/plots/EMNIST_grad_norm_distribution.pdf')"
   ]
  }
 ],
 "metadata": {
  "kernelspec": {
   "display_name": "Python 3 (ipykernel)",
   "language": "python",
   "name": "python3"
  },
  "language_info": {
   "codemirror_mode": {
    "name": "ipython",
    "version": 3
   },
   "file_extension": ".py",
   "mimetype": "text/x-python",
   "name": "python",
   "nbconvert_exporter": "python",
   "pygments_lexer": "ipython3",
   "version": "3.8.12"
  }
 },
 "nbformat": 4,
 "nbformat_minor": 5
}
