{
 "cells": [
  {
   "cell_type": "code",
   "execution_count": 2,
   "id": "a5930b1a-0489-46ae-9bd8-1b5c1d0471bf",
   "metadata": {},
   "outputs": [],
   "source": [
    "from absl import app\n",
    "\n",
    "import fedjax\n",
    "from fedjax.core import tree_util\n",
    "\n",
    "import jax\n",
    "import jax.numpy as jnp\n",
    "\n",
    "import PLM\n",
    "import itertools\n",
    "import FedMix"
   ]
  },
  {
   "cell_type": "code",
   "execution_count": 3,
   "id": "db531897-a646-4418-994d-523f3fb5835b",
   "metadata": {},
   "outputs": [
    {
     "name": "stderr",
     "output_type": "stream",
     "text": [
      "Reusing cached file '/home/gasanoe/.cache/fedjax/federated_emnist_train.sqlite'\n",
      "Reusing cached file '/home/gasanoe/.cache/fedjax/federated_emnist_test.sqlite'\n"
     ]
    }
   ],
   "source": [
    "train_fd, test_fd = fedjax.datasets.emnist.load_data(only_digits=False)"
   ]
  },
  {
   "cell_type": "code",
   "execution_count": 4,
   "id": "7bf012b6-f3a3-4d74-8295-7833d0ee1788",
   "metadata": {},
   "outputs": [],
   "source": [
    "model = fedjax.models.emnist.create_conv_model(only_digits=False)"
   ]
  },
  {
   "cell_type": "code",
   "execution_count": 5,
   "id": "4c3921f1-8668-4e6c-b61d-095ee002b670",
   "metadata": {},
   "outputs": [],
   "source": [
    "def loss(params, batch, rng):\n",
    "    # `rng` used with `apply_for_train` to apply dropout during training.\n",
    "    preds = model.apply_for_train(params, batch, rng)\n",
    "    # Per example loss of shape [batch_size].\n",
    "    example_loss = model.train_loss(batch, preds)\n",
    "    return jnp.mean(example_loss)"
   ]
  },
  {
   "cell_type": "code",
   "execution_count": 6,
   "id": "c6c7b517-1263-4242-87d5-5e5eb3fd7862",
   "metadata": {},
   "outputs": [],
   "source": [
    "grad_fn = jax.jit(jax.grad(loss))"
   ]
  },
  {
   "cell_type": "code",
   "execution_count": 7,
   "id": "ef9d9c6a-fa24-441a-9a6d-c085cc1e9148",
   "metadata": {},
   "outputs": [],
   "source": [
    "def loss_for_eval(params, batch):\n",
    "    preds = model.apply_for_eval(params, batch)\n",
    "    example_loss = model.train_loss(batch, preds)\n",
    "    return jnp.mean(example_loss)    "
   ]
  },
  {
   "cell_type": "code",
   "execution_count": 8,
   "id": "75bbf2fe-5c11-4768-864c-8b78a0e46f26",
   "metadata": {},
   "outputs": [],
   "source": [
    "grad_fn_eval = jax.jit(jax.grad(loss_for_eval))"
   ]
  },
  {
   "cell_type": "code",
   "execution_count": null,
   "id": "7af0bb9e-e231-48cc-a608-05232ed77628",
   "metadata": {},
   "outputs": [],
   "source": [
    "client_optimizer = fedjax.optimizers.sgd(learning_rate=10**(-1.5))\n",
    "# Hyperparameters for client local traing dataset preparation.\n",
    "client_batch_hparams = fedjax.ShuffleRepeatBatchHParams(batch_size=20, num_epochs=1000, drop_remainder=True)\n",
    "\n",
    "algorithm = PLM.computing_plm(grad_fn, client_optimizer, client_batch_hparams)"
   ]
  },
  {
   "cell_type": "code",
   "execution_count": null,
   "id": "20ceca72-5fb1-4ea9-838a-22604a6340bf",
   "metadata": {},
   "outputs": [],
   "source": [
    "fedjax.ShuffleRepeatBatchHParams?"
   ]
  },
  {
   "cell_type": "code",
   "execution_count": null,
   "id": "8dc2b0b8-8143-49d3-8694-9587c781ca89",
   "metadata": {},
   "outputs": [],
   "source": [
    "# Initialize model parameters and algorithm server state.\n",
    "init_params = model.init(jax.random.PRNGKey(17))"
   ]
  },
  {
   "cell_type": "code",
   "execution_count": null,
   "id": "2b1a3d0b-a735-4589-9e06-ba40f2338d70",
   "metadata": {},
   "outputs": [],
   "source": [
    "server_state = algorithm.init(init_params)"
   ]
  },
  {
   "cell_type": "code",
   "execution_count": null,
   "id": "d5142dd2-43e1-4218-8401-f17754f95652",
   "metadata": {},
   "outputs": [],
   "source": [
    "rng = jax.random.PRNGKey(10)\n",
    "# num_clients_per_round = 10\n",
    "num_client = 0\n",
    "for cid, cds in itertools.islice(train_fd.clients(), 5):\n",
    "    rng, use_rng = jax.random.split(rng)\n",
    "    server_state, _ = algorithm.apply(server_state, [(cid, cds, use_rng)])\n",
    "    num_client += 1\n",
    "    print('Client {} out of {} is processed.'.format(num_client, train_fd.num_clients()), end='\\r')"
   ]
  },
  {
   "cell_type": "code",
   "execution_count": null,
   "id": "0051c714-176d-4278-9ad5-067eb3f18146",
   "metadata": {},
   "outputs": [],
   "source": [
    "client_id = b'005fdad281234bc0:f0151_02'\n",
    "grad_ = grad_fn_eval(server_state.PLM[client_id], train_fd.get_client(client_id).all_examples())"
   ]
  },
  {
   "cell_type": "code",
   "execution_count": null,
   "id": "aee34247-3400-475e-abfe-e199bc32053b",
   "metadata": {},
   "outputs": [],
   "source": [
    "tree_util.tree_l2_norm(grad_)"
   ]
  }
 ],
 "metadata": {
  "kernelspec": {
   "display_name": "Python 3 (ipykernel)",
   "language": "python",
   "name": "python3"
  },
  "language_info": {
   "codemirror_mode": {
    "name": "ipython",
    "version": 3
   },
   "file_extension": ".py",
   "mimetype": "text/x-python",
   "name": "python",
   "nbconvert_exporter": "python",
   "pygments_lexer": "ipython3",
   "version": "3.8.12"
  }
 },
 "nbformat": 4,
 "nbformat_minor": 5
}
