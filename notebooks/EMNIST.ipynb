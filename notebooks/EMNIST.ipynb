{
 "cells": [
  {
   "cell_type": "markdown",
   "id": "73ebda66-e03b-4dc7-b2e1-6825035646ab",
   "metadata": {},
   "source": [
    "# Importing packages"
   ]
  },
  {
   "cell_type": "code",
   "execution_count": 45,
   "id": "6d64144a-6b1a-4fbc-81ee-d3691da6e009",
   "metadata": {},
   "outputs": [],
   "source": [
    "import fedjax\n",
    "import jax\n",
    "import jax.numpy as jnp\n",
    "import PLM_computation\n",
    "import FedMix_computation\n",
    "from grid_search import FedMixGrid, grid_search\n",
    "from EMNIST_custom import emnist_load_gd_data\n",
    "import itertools"
   ]
  },
  {
   "cell_type": "code",
   "execution_count": 71,
   "id": "4d060f65-419e-432b-be50-bf13cd427dce",
   "metadata": {},
   "outputs": [],
   "source": [
    "from matplotlib import pyplot as plt"
   ]
  },
  {
   "cell_type": "code",
   "execution_count": 80,
   "id": "ed02599f-ed69-45a9-8ca0-2dd9238a983f",
   "metadata": {},
   "outputs": [],
   "source": [
    "import pickle"
   ]
  },
  {
   "cell_type": "markdown",
   "id": "9c43014d-2b8f-4861-b754-b5b9ccb7ae32",
   "metadata": {},
   "source": [
    "# Model setup"
   ]
  },
  {
   "cell_type": "code",
   "execution_count": 2,
   "id": "5397c52a-5cbb-43ac-9074-fc27e13a52ae",
   "metadata": {},
   "outputs": [],
   "source": [
    "model = fedjax.models.emnist.create_conv_model(only_digits=False)"
   ]
  },
  {
   "cell_type": "code",
   "execution_count": 3,
   "id": "55a859ca-4d24-4131-a446-42700f8ba772",
   "metadata": {},
   "outputs": [],
   "source": [
    "def loss(params, batch, rng):\n",
    "    # `rng` used with `apply_for_train` to apply dropout during training.\n",
    "    preds = model.apply_for_train(params, batch, rng)\n",
    "    # Per example loss of shape [batch_size].\n",
    "    example_loss = model.train_loss(batch, preds)\n",
    "    return jnp.mean(example_loss)"
   ]
  },
  {
   "cell_type": "code",
   "execution_count": 4,
   "id": "aac44efb-fbaf-46cf-a1f1-7f63d07f209c",
   "metadata": {},
   "outputs": [],
   "source": [
    "def loss_for_eval(params, batch):\n",
    "    preds = model.apply_for_eval(params, batch)\n",
    "    example_loss = model.train_loss(batch, preds)\n",
    "    return jnp.mean(example_loss)"
   ]
  },
  {
   "cell_type": "code",
   "execution_count": 5,
   "id": "3ff682e6-b1d0-41d2-b311-f6c2d1383a4e",
   "metadata": {},
   "outputs": [],
   "source": [
    "grad_fn = jax.jit(jax.grad(loss))"
   ]
  },
  {
   "cell_type": "code",
   "execution_count": 6,
   "id": "f81591b6-9cc1-44b2-b279-c0346b6fa3e9",
   "metadata": {},
   "outputs": [],
   "source": [
    "grad_fn_eval = jax.jit(jax.grad(loss_for_eval))"
   ]
  },
  {
   "cell_type": "markdown",
   "id": "6229f99d-e317-4449-97c4-ecbfc1ceb745",
   "metadata": {
    "tags": []
   },
   "source": [
    "# Grid search setup"
   ]
  },
  {
   "cell_type": "markdown",
   "id": "5d6053ec-12df-41ba-bd98-781e5a2f2ff6",
   "metadata": {},
   "source": [
    "## Constants"
   ]
  },
  {
   "cell_type": "code",
   "execution_count": 8,
   "id": "8e7bccd2-c43f-46a4-8420-237c98bc0b69",
   "metadata": {},
   "outputs": [],
   "source": [
    "CACHE_DIR = '../data/'\n",
    "NUM_CLIENTS_GRID_SEARCH = 200\n",
    "TRAIN_VALIDATION_SPLIT = 0.8\n",
    "NUM_CLIENTS_PER_PLM_ROUND = 5\n",
    "NUM_CLIENTS_PER_FEDMIX_ROUND = 10\n",
    "FEDMIX_ALGORITHM = 'adam'\n",
    "FEDMIX_NUM_ROUNDS = 500\n",
    "PLM_NUM_EPOCHS = 100"
   ]
  },
  {
   "cell_type": "markdown",
   "id": "95e4db1a-3455-481d-9cf2-5653b38e14ea",
   "metadata": {},
   "source": [
    "## Datasets and parameters"
   ]
  },
  {
   "cell_type": "code",
   "execution_count": 9,
   "id": "6bc99230-383c-4559-8931-6229ed57f207",
   "metadata": {},
   "outputs": [
    {
     "name": "stderr",
     "output_type": "stream",
     "text": [
      "Reusing cached file '../data/federated_emnist_train.sqlite'\n"
     ]
    }
   ],
   "source": [
    "train_fd, validation_fd = emnist_load_gd_data(\n",
    "    train_val_split=TRAIN_VALIDATION_SPLIT,\n",
    "    only_digits=False,\n",
    "    cache_dir=CACHE_DIR\n",
    ")"
   ]
  },
  {
   "cell_type": "code",
   "execution_count": 10,
   "id": "f2cbd7a2-8c6d-4993-9997-a1a90760f539",
   "metadata": {},
   "outputs": [],
   "source": [
    "client_ids = set([cid for cid in itertools.islice(\n",
    "    train_fd.client_ids(), NUM_CLIENTS_GRID_SEARCH)])"
   ]
  },
  {
   "cell_type": "code",
   "execution_count": 11,
   "id": "216fac10-c48f-43dd-b3f2-f5aa9be027a2",
   "metadata": {},
   "outputs": [],
   "source": [
    "train_fd = fedjax.SubsetFederatedData(train_fd, client_ids)\n",
    "validation_fd = fedjax.SubsetFederatedData(validation_fd, client_ids)"
   ]
  },
  {
   "cell_type": "code",
   "execution_count": 14,
   "id": "b2b95a1b-b209-4bd6-8d2c-1beda3eb4018",
   "metadata": {},
   "outputs": [],
   "source": [
    "plm_init_params = model.init(jax.random.PRNGKey(0))"
   ]
  },
  {
   "cell_type": "code",
   "execution_count": 15,
   "id": "53211ed4-1d0f-472e-a364-9af6a9bba209",
   "metadata": {},
   "outputs": [],
   "source": [
    "plm_comp_params = PLM_computation.PLMComputationProcessParams(\n",
    "    plm_init_params, NUM_CLIENTS_PER_PLM_ROUND)"
   ]
  },
  {
   "cell_type": "code",
   "execution_count": 16,
   "id": "05442e4e-2e3e-4854-94ed-099dc62e8e04",
   "metadata": {},
   "outputs": [],
   "source": [
    "fedmix_init_params = model.init(jax.random.PRNGKey(20))"
   ]
  },
  {
   "cell_type": "code",
   "execution_count": 17,
   "id": "a9917d76-2303-46d9-80fb-2bd7b26c7664",
   "metadata": {},
   "outputs": [],
   "source": [
    "fedmix_comp_params = FedMix_computation.FedMixComputationParams(\n",
    "    FEDMIX_ALGORITHM, fedmix_init_params, FEDMIX_NUM_ROUNDS)"
   ]
  },
  {
   "cell_type": "code",
   "execution_count": 18,
   "id": "0a40d24d-4f95-41c9-a29c-244e91f89eef",
   "metadata": {},
   "outputs": [],
   "source": [
    "alpha = 0.7"
   ]
  },
  {
   "cell_type": "markdown",
   "id": "03115ef2-f3bb-46b5-8766-ac2504efa91c",
   "metadata": {},
   "source": [
    "## Grid"
   ]
  },
  {
   "cell_type": "code",
   "execution_count": 22,
   "id": "18b974db-4487-4bad-b748-e359e2c0c7d5",
   "metadata": {},
   "outputs": [],
   "source": [
    "fedmix_lrs = 10**jnp.arange(-5., 0.5, 1)\n",
    "fedmix_batch_sizes = [20, 50, 100, 200]\n",
    "plm_lrs = 10**jnp.arange(-5., 0.5, 1)\n",
    "plm_batch_sizes = [10, 20, 50, 100]"
   ]
  },
  {
   "cell_type": "code",
   "execution_count": 23,
   "id": "00a21be4-d71d-4fb3-8e9f-6f3e6e70a228",
   "metadata": {},
   "outputs": [],
   "source": [
    "grid = FedMixGrid(fedmix_lrs, plm_lrs, fedmix_batch_sizes, plm_batch_sizes)"
   ]
  },
  {
   "cell_type": "markdown",
   "id": "591d3ebe-250c-4a66-8e5d-7c0b300456fa",
   "metadata": {},
   "source": [
    "# Grid search"
   ]
  },
  {
   "cell_type": "code",
   "execution_count": 28,
   "id": "3606ceec-199a-4814-9a99-ccb0e7193234",
   "metadata": {},
   "outputs": [],
   "source": [
    "SAVE_FILE = '../results/EMNIST_{}_gd.npy'.format(int(10 * alpha))"
   ]
  },
  {
   "cell_type": "code",
   "execution_count": 30,
   "id": "69f9a6fc-3a26-4e1a-9bba-01838c3af693",
   "metadata": {},
   "outputs": [
    {
     "data": {
      "text/plain": [
       "'../results/EMNIST_7_gd.npy'"
      ]
     },
     "execution_count": 30,
     "metadata": {},
     "output_type": "execute_result"
    }
   ],
   "source": [
    "SAVE_FILE"
   ]
  },
  {
   "cell_type": "code",
   "execution_count": null,
   "id": "377b4f76-73e6-47d9-82ee-90474a7a953c",
   "metadata": {},
   "outputs": [
    {
     "name": "stdout",
     "output_type": "stream",
     "text": [
      "PLM computation: num_epochs = 100, lr = 9.999999747378752e-06, b_size = 10\n",
      "Round 5 / 40\r"
     ]
    }
   ],
   "source": [
    "table = grid_search(\n",
    "    train_fd, validation_fd, grad_fn, grad_fn_eval, model, alpha,\n",
    "    plm_comp_params, fedmix_comp_params, grid, PLM_NUM_EPOCHS,\n",
    "    NUM_CLIENTS_PER_FEDMIX_ROUND, SAVE_FILE\n",
    ")"
   ]
  },
  {
   "cell_type": "code",
   "execution_count": 34,
   "id": "d0658fef-b971-400c-8f67-c19859d2b865",
   "metadata": {},
   "outputs": [],
   "source": [
    "best_ind = jnp.unravel_index(jnp.argmax(table), table.shape)"
   ]
  },
  {
   "cell_type": "code",
   "execution_count": 59,
   "id": "303c4685-1c4e-478d-9a3b-cfc3729a8409",
   "metadata": {},
   "outputs": [
    {
     "data": {
      "text/plain": [
       "(DeviceArray(2, dtype=int32),\n",
       " DeviceArray(2, dtype=int32),\n",
       " DeviceArray(2, dtype=int32),\n",
       " DeviceArray(3, dtype=int32))"
      ]
     },
     "execution_count": 59,
     "metadata": {},
     "output_type": "execute_result"
    }
   ],
   "source": [
    "best_ind"
   ]
  },
  {
   "cell_type": "code",
   "execution_count": 35,
   "id": "d563168e-b10e-45ef-ae57-44f5279f559a",
   "metadata": {},
   "outputs": [],
   "source": [
    "plm_batch_size = plm_batch_sizes[best_ind[0]]\n",
    "plm_lr = plm_lrs[best_ind[1]]\n",
    "fedmix_batch_size = fedmix_batch_sizes[best_ind[2]]\n",
    "fedmix_lr = fedmix_lrs[best_ind[3]]"
   ]
  },
  {
   "cell_type": "markdown",
   "id": "fca0e59b-1865-4a41-9064-60b64241ef07",
   "metadata": {},
   "source": [
    "# FedMix"
   ]
  },
  {
   "cell_type": "code",
   "execution_count": 64,
   "id": "cde30fd7-6066-4cfb-aab2-965740e56d5c",
   "metadata": {},
   "outputs": [],
   "source": [
    "num_rounds = 3000"
   ]
  },
  {
   "cell_type": "markdown",
   "id": "d5ad55c9-d257-406d-a1ed-53956cde7fa3",
   "metadata": {},
   "source": [
    "Now we download full train and test datasets."
   ]
  },
  {
   "cell_type": "code",
   "execution_count": 42,
   "id": "77c1a6d4-ad94-4538-8089-27f6f1b18eaf",
   "metadata": {},
   "outputs": [
    {
     "name": "stderr",
     "output_type": "stream",
     "text": [
      "Reusing cached file '../data/federated_emnist_train.sqlite'\n",
      "Reusing cached file '../data/federated_emnist_test.sqlite'\n"
     ]
    }
   ],
   "source": [
    "train_fd, test_fd = fedjax.datasets.emnist.load_data(only_digits=False,\n",
    "                                                     cache_dir='../data/')"
   ]
  },
  {
   "cell_type": "code",
   "execution_count": 51,
   "id": "c4a4b821-b9e7-45ef-abee-f30ad81c207d",
   "metadata": {},
   "outputs": [],
   "source": [
    "plm_comp_hparams = PLM_computation.PLMComputationHParams(PLM_NUM_EPOCHS,\n",
    "                                                         plm_lr,\n",
    "                                                         plm_batch_size)"
   ]
  },
  {
   "cell_type": "code",
   "execution_count": null,
   "id": "e5aa2250-4b9d-4d59-afbb-8d1b15b3615e",
   "metadata": {},
   "outputs": [
    {
     "name": "stdout",
     "output_type": "stream",
     "text": [
      "PLM computation: num_epochs = 100, lr = 0.0010000000474974513, b_size = 50\n",
      "Round 46 / 680\r"
     ]
    }
   ],
   "source": [
    "PLM_dict = PLM_computation.plm_computation(train_fd,\n",
    "                                           grad_fn,\n",
    "                                           plm_comp_hparams,\n",
    "                                           plm_comp_params)"
   ]
  },
  {
   "cell_type": "code",
   "execution_count": 56,
   "id": "29c9c4d9-8b4a-4e42-b1b4-ccc949002767",
   "metadata": {},
   "outputs": [
    {
     "data": {
      "text/plain": [
       "0.7"
      ]
     },
     "execution_count": 56,
     "metadata": {},
     "output_type": "execute_result"
    }
   ],
   "source": [
    "alpha"
   ]
  },
  {
   "cell_type": "code",
   "execution_count": 57,
   "id": "6db9a596-7a00-47e4-bbec-422abcc4daac",
   "metadata": {},
   "outputs": [],
   "source": [
    "alpha_dict = {}\n",
    "for cid in train_fd.client_ids():\n",
    "    alpha_dict[cid] = alpha"
   ]
  },
  {
   "cell_type": "code",
   "execution_count": 58,
   "id": "4f3d734a-2f9f-4da3-9f5a-e2b3822af4da",
   "metadata": {},
   "outputs": [
    {
     "data": {
      "text/plain": [
       "3400"
      ]
     },
     "execution_count": 58,
     "metadata": {},
     "output_type": "execute_result"
    }
   ],
   "source": [
    "len(alpha_dict)"
   ]
  },
  {
   "cell_type": "code",
   "execution_count": 60,
   "id": "0548d383-41fc-4221-babd-befba37f34f0",
   "metadata": {},
   "outputs": [],
   "source": [
    "fedmix_hparams = FedMix_computation.FedMixHParams(\n",
    "    fedmix_lr, NUM_CLIENTS_PER_FEDMIX_ROUND, fedmix_batch_size)"
   ]
  },
  {
   "cell_type": "code",
   "execution_count": 62,
   "id": "a785a1e4-6fab-47b7-9ff5-6f327eee9e9b",
   "metadata": {},
   "outputs": [
    {
     "data": {
      "text/plain": [
       "100"
      ]
     },
     "execution_count": 62,
     "metadata": {},
     "output_type": "execute_result"
    }
   ],
   "source": [
    "fedmix_batch_size"
   ]
  },
  {
   "cell_type": "code",
   "execution_count": 65,
   "id": "22626a15-3392-42f8-80e6-5fb9b65fde47",
   "metadata": {},
   "outputs": [],
   "source": [
    "fedmix_comp_params = FedMix_computation.FedMixComputationParams(\n",
    "    FEDMIX_ALGORITHM, fedmix_init_params, num_rounds)"
   ]
  },
  {
   "cell_type": "code",
   "execution_count": 66,
   "id": "adffdfc5-a4ad-45aa-8152-7976a1fb6d41",
   "metadata": {},
   "outputs": [
    {
     "name": "stdout",
     "output_type": "stream",
     "text": [
      "Round 3000 / 3000\r"
     ]
    }
   ],
   "source": [
    "_, stats = FedMix_computation.fedmix_computation_with_statistics(\n",
    "    train_fd, test_fd, grad_fn, grad_fn_eval, model, PLM_dict, alpha_dict,\n",
    "    fedmix_hparams, fedmix_comp_params, 100)"
   ]
  },
  {
   "cell_type": "markdown",
   "id": "646968c0-b28a-4f02-a65c-9abdc7bb5e9e",
   "metadata": {},
   "source": [
    "# FedAvg"
   ]
  },
  {
   "cell_type": "code",
   "execution_count": null,
   "id": "8dfc7043-255a-4fa1-a443-1b4b1a7f3383",
   "metadata": {},
   "outputs": [],
   "source": [
    "client_optimizer = fedjax.optimizers.sgd(learning_rate=10**(-1.5))\n",
    "server_optimizer = fedjax.optimizers.adam(\n",
    "learning_rate=10**(-2.5), b1=0.9, b2=0.999, eps=10**(-4))\n",
    "# Hyperparameters for client local traing dataset preparation.\n",
    "client_batch_hparams = fedjax.ShuffleRepeatBatchHParams(batch_size=20)\n",
    "algorithm = fedjax.algorithms.fed_avg.federated_averaging(grad_fn, client_optimizer,\n",
    "                                          server_optimizer,\n",
    "                                          client_batch_hparams)\n",
    "# Initialize model parameters and algorithm server state.\n",
    "init_params = model.init(jax.random.PRNGKey(17))\n",
    "server_state = algorithm.init(init_params)"
   ]
  },
  {
   "cell_type": "code",
   "execution_count": null,
   "id": "43405b94-5a13-4cdf-a678-99d5345481ce",
   "metadata": {},
   "outputs": [],
   "source": [
    "train_client_sampler = fedjax.client_samplers.UniformGetClientSampler(fd=train_fd, num_clients=10, seed=0)"
   ]
  },
  {
   "cell_type": "code",
   "execution_count": null,
   "id": "8f687814-e183-4830-ad41-fb8e2e2e0cdd",
   "metadata": {},
   "outputs": [],
   "source": [
    "fedavg_test_acc_progress = []"
   ]
  },
  {
   "cell_type": "code",
   "execution_count": null,
   "id": "5d45cba3-7fd2-49e3-968a-f9c89b88c549",
   "metadata": {},
   "outputs": [],
   "source": [
    "for round_num in range(1, max_rounds + 1):\n",
    "    # Sample 10 clients per round without replacement for training.\n",
    "    clients = train_client_sampler.sample()\n",
    "    # Run one round of training on sampled clients.\n",
    "    server_state, client_diagnostics = algorithm.apply(server_state, clients)\n",
    "    print(f'[round {round_num}]', end='\\r')\n",
    "    # Optionally print client diagnostics if curious about each client's model\n",
    "    # update's l2 norm.\n",
    "    # print(f'[round {round_num}] client_diagnostics={client_diagnostics}')\n",
    "\n",
    "    if round_num % 100 == 0:\n",
    "        test_eval_datasets = [cds for _, cds in test_fd.clients()]\n",
    "        test_eval_batches = fedjax.padded_batch_client_datasets(test_eval_datasets, batch_size=256)\n",
    "        test_metrics = fedjax.evaluate_model(model, server_state.params, test_eval_batches)\n",
    "        fedavg_test_acc_progress.append(test_metrics['accuracy'])\n",
    "        print('Test accuracy = {}'.format(test_metrics['accuracy']))"
   ]
  },
  {
   "cell_type": "code",
   "execution_count": 81,
   "id": "b114171f-bedd-4210-b7fb-81df22f1fe34",
   "metadata": {},
   "outputs": [],
   "source": [
    "save_file = '../results/test_acc_fedavg.pickle'"
   ]
  },
  {
   "cell_type": "code",
   "execution_count": null,
   "id": "9b02b196-cc2f-421d-8bb8-b74652f01082",
   "metadata": {},
   "outputs": [],
   "source": [
    "with open(save_file, 'wb') as handle:\n",
    "    pickle.dump(fedavg_test_acc_progress, handle)"
   ]
  },
  {
   "cell_type": "code",
   "execution_count": 82,
   "id": "be5cc8ab-7788-4edc-b496-72296b3d7499",
   "metadata": {},
   "outputs": [],
   "source": [
    "with open(save_file, 'rb') as handle:\n",
    "    fedavg_test_acc_progress = pickle.load(handle)"
   ]
  },
  {
   "cell_type": "code",
   "execution_count": 84,
   "id": "90c0a9db-1c8c-494e-8ec4-45b80c8e4060",
   "metadata": {},
   "outputs": [],
   "source": [
    "fedavg_test_acc_progress = fedavg_test_acc_progress[:30]"
   ]
  },
  {
   "cell_type": "markdown",
   "id": "705bef17-be3e-4385-bb1a-e8ea9247777e",
   "metadata": {},
   "source": [
    "# Plots"
   ]
  },
  {
   "cell_type": "code",
   "execution_count": 69,
   "id": "a7b9af3c-e907-4ef3-92a2-91c4ceccc1da",
   "metadata": {},
   "outputs": [],
   "source": [
    "accs = [stat['accuracy'] for stat in stats]"
   ]
  },
  {
   "cell_type": "code",
   "execution_count": 89,
   "id": "c537f33d-73e0-4b6c-989d-c972ba80182e",
   "metadata": {},
   "outputs": [
    {
     "data": {
      "image/png": "[encoded data removed]",
      "text/plain": [
       "<Figure size 432x288 with 1 Axes>"
      ]
     },
     "metadata": {
      "needs_background": "light"
     },
     "output_type": "display_data"
    }
   ],
   "source": [
    "round_nums = jnp.linspace(100, 3000, num=30, endpoint=True)\n",
    "plt.plot(round_nums, accs, label='FLIX')\n",
    "plt.plot(round_nums, fedavg_test_acc_progress, label='FedAvg')\n",
    "plt.xlim(left=0)\n",
    "plt.ylabel('accuracy')\n",
    "plt.xlabel('rounds')\n",
    "plt.grid()\n",
    "plt.title('EMNIST')\n",
    "plt.legend()\n",
    "plt.tight_layout()\n",
    "plt.savefig('../results/plots/EMNIST_preliminary_7.pdf')"
   ]
  },
  {
   "cell_type": "code",
   "execution_count": null,
   "id": "d49f4562-5a08-4b5e-85e7-3ffa063096a6",
   "metadata": {},
   "outputs": [],
   "source": []
  }
 ],
 "metadata": {
  "kernelspec": {
   "display_name": "Python 3 (ipykernel)",
   "language": "python",
   "name": "python3"
  },
  "language_info": {
   "codemirror_mode": {
    "name": "ipython",
    "version": 3
   },
   "file_extension": ".py",
   "mimetype": "text/x-python",
   "name": "python",
   "nbconvert_exporter": "python",
   "pygments_lexer": "ipython3",
   "version": "3.8.12"
  }
 },
 "nbformat": 4,
 "nbformat_minor": 5
}
