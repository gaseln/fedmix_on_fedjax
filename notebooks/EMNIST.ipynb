{
 "cells": [
  {
   "cell_type": "markdown",
   "id": "73ebda66-e03b-4dc7-b2e1-6825035646ab",
   "metadata": {},
   "source": [
    "# Importing packages"
   ]
  },
  {
   "cell_type": "code",
   "execution_count": 1,
   "id": "6d64144a-6b1a-4fbc-81ee-d3691da6e009",
   "metadata": {},
   "outputs": [],
   "source": [
    "import fedjax\n",
    "import jax\n",
    "import jax.numpy as jnp\n",
    "import PLM_computation\n",
    "import FedMix_computation\n",
    "from grid_search import FedMixGrid, grid_search\n",
    "from EMNIST_custom import emnist_load_gd_data\n",
    "import itertools"
   ]
  },
  {
   "cell_type": "markdown",
   "id": "9c43014d-2b8f-4861-b754-b5b9ccb7ae32",
   "metadata": {},
   "source": [
    "# Model setup"
   ]
  },
  {
   "cell_type": "code",
   "execution_count": 2,
   "id": "5397c52a-5cbb-43ac-9074-fc27e13a52ae",
   "metadata": {},
   "outputs": [],
   "source": [
    "model = fedjax.models.emnist.create_conv_model(only_digits=False)"
   ]
  },
  {
   "cell_type": "code",
   "execution_count": 3,
   "id": "55a859ca-4d24-4131-a446-42700f8ba772",
   "metadata": {},
   "outputs": [],
   "source": [
    "def loss(params, batch, rng):\n",
    "    # `rng` used with `apply_for_train` to apply dropout during training.\n",
    "    preds = model.apply_for_train(params, batch, rng)\n",
    "    # Per example loss of shape [batch_size].\n",
    "    example_loss = model.train_loss(batch, preds)\n",
    "    return jnp.mean(example_loss)"
   ]
  },
  {
   "cell_type": "code",
   "execution_count": 4,
   "id": "aac44efb-fbaf-46cf-a1f1-7f63d07f209c",
   "metadata": {},
   "outputs": [],
   "source": [
    "def loss_for_eval(params, batch):\n",
    "    preds = model.apply_for_eval(params, batch)\n",
    "    example_loss = model.train_loss(batch, preds)\n",
    "    return jnp.mean(example_loss)"
   ]
  },
  {
   "cell_type": "code",
   "execution_count": 5,
   "id": "3ff682e6-b1d0-41d2-b311-f6c2d1383a4e",
   "metadata": {},
   "outputs": [],
   "source": [
    "grad_fn = jax.jit(jax.grad(loss))"
   ]
  },
  {
   "cell_type": "code",
   "execution_count": 6,
   "id": "f81591b6-9cc1-44b2-b279-c0346b6fa3e9",
   "metadata": {},
   "outputs": [],
   "source": [
    "grad_fn_eval = jax.jit(jax.grad(loss_for_eval))"
   ]
  },
  {
   "cell_type": "markdown",
   "id": "6229f99d-e317-4449-97c4-ecbfc1ceb745",
   "metadata": {
    "tags": []
   },
   "source": [
    "# Grid search setup"
   ]
  },
  {
   "cell_type": "markdown",
   "id": "5d6053ec-12df-41ba-bd98-781e5a2f2ff6",
   "metadata": {},
   "source": [
    "## Constants"
   ]
  },
  {
   "cell_type": "code",
   "execution_count": 8,
   "id": "8e7bccd2-c43f-46a4-8420-237c98bc0b69",
   "metadata": {},
   "outputs": [],
   "source": [
    "CACHE_DIR = '../data/'\n",
    "NUM_CLIENTS_GRID_SEARCH = 200\n",
    "TRAIN_VALIDATION_SPLIT = 0.8\n",
    "NUM_CLIENTS_PER_PLM_ROUND = 5\n",
    "NUM_CLIENTS_PER_FEDMIX_ROUND = 10\n",
    "FEDMIX_ALGORITHM = 'adam'\n",
    "FEDMIX_NUM_ROUNDS = 500\n",
    "PLM_NUM_EPOCHS = 100"
   ]
  },
  {
   "cell_type": "markdown",
   "id": "95e4db1a-3455-481d-9cf2-5653b38e14ea",
   "metadata": {},
   "source": [
    "## Datasets and parameters"
   ]
  },
  {
   "cell_type": "code",
   "execution_count": 9,
   "id": "6bc99230-383c-4559-8931-6229ed57f207",
   "metadata": {},
   "outputs": [
    {
     "name": "stderr",
     "output_type": "stream",
     "text": [
      "Reusing cached file '../data/federated_emnist_train.sqlite'\n"
     ]
    }
   ],
   "source": [
    "train_fd, validation_fd = emnist_load_gd_data(\n",
    "    train_val_split=TRAIN_VALIDATION_SPLIT,\n",
    "    only_digits=False,\n",
    "    cache_dir=CACHE_DIR\n",
    ")"
   ]
  },
  {
   "cell_type": "code",
   "execution_count": 10,
   "id": "f2cbd7a2-8c6d-4993-9997-a1a90760f539",
   "metadata": {},
   "outputs": [],
   "source": [
    "client_ids = set([cid for cid in itertools.islice(\n",
    "    train_fd.client_ids(), NUM_CLIENTS_GRID_SEARCH)])"
   ]
  },
  {
   "cell_type": "code",
   "execution_count": 11,
   "id": "216fac10-c48f-43dd-b3f2-f5aa9be027a2",
   "metadata": {},
   "outputs": [],
   "source": [
    "train_fd = fedjax.SubsetFederatedData(train_fd, client_ids)\n",
    "validation_fd = fedjax.SubsetFederatedData(validation_fd, client_ids)"
   ]
  },
  {
   "cell_type": "code",
   "execution_count": 14,
   "id": "b2b95a1b-b209-4bd6-8d2c-1beda3eb4018",
   "metadata": {},
   "outputs": [],
   "source": [
    "plm_init_params = model.init(jax.random.PRNGKey(0))"
   ]
  },
  {
   "cell_type": "code",
   "execution_count": 15,
   "id": "53211ed4-1d0f-472e-a364-9af6a9bba209",
   "metadata": {},
   "outputs": [],
   "source": [
    "plm_comp_params = PLM_computation.PLMComputationProcessParams(\n",
    "    plm_init_params, NUM_CLIENTS_PER_PLM_ROUND)"
   ]
  },
  {
   "cell_type": "code",
   "execution_count": 16,
   "id": "05442e4e-2e3e-4854-94ed-099dc62e8e04",
   "metadata": {},
   "outputs": [],
   "source": [
    "fedmix_init_params = model.init(jax.random.PRNGKey(20))"
   ]
  },
  {
   "cell_type": "code",
   "execution_count": 17,
   "id": "a9917d76-2303-46d9-80fb-2bd7b26c7664",
   "metadata": {},
   "outputs": [],
   "source": [
    "fedmix_comp_params = FedMix_computation.FedMixComputationParams(\n",
    "    FEDMIX_ALGORITHM, fedmix_init_params, FEDMIX_NUM_ROUNDS)"
   ]
  },
  {
   "cell_type": "code",
   "execution_count": 18,
   "id": "0a40d24d-4f95-41c9-a29c-244e91f89eef",
   "metadata": {},
   "outputs": [],
   "source": [
    "alpha = 0.7"
   ]
  },
  {
   "cell_type": "markdown",
   "id": "03115ef2-f3bb-46b5-8766-ac2504efa91c",
   "metadata": {},
   "source": [
    "## Grid"
   ]
  },
  {
   "cell_type": "code",
   "execution_count": 22,
   "id": "18b974db-4487-4bad-b748-e359e2c0c7d5",
   "metadata": {},
   "outputs": [],
   "source": [
    "fedmix_lrs = 10**jnp.arange(-5., 0.5, 1)\n",
    "fedmix_batch_sizes = [20, 50, 100, 200]\n",
    "plm_lrs = 10**jnp.arange(-5., 0.5, 1)\n",
    "plm_batch_sizes = [10, 20, 50, 100]"
   ]
  },
  {
   "cell_type": "code",
   "execution_count": 23,
   "id": "00a21be4-d71d-4fb3-8e9f-6f3e6e70a228",
   "metadata": {},
   "outputs": [],
   "source": [
    "grid = FedMixGrid(fedmix_lrs, plm_lrs, fedmix_batch_sizes, plm_batch_sizes)"
   ]
  },
  {
   "cell_type": "markdown",
   "id": "591d3ebe-250c-4a66-8e5d-7c0b300456fa",
   "metadata": {},
   "source": [
    "# Grid search"
   ]
  },
  {
   "cell_type": "code",
   "execution_count": 28,
   "id": "3606ceec-199a-4814-9a99-ccb0e7193234",
   "metadata": {},
   "outputs": [],
   "source": [
    "SAVE_FILE = '../results/EMNIST_{}_gd.npy'.format(int(10 * alpha))"
   ]
  },
  {
   "cell_type": "code",
   "execution_count": 30,
   "id": "69f9a6fc-3a26-4e1a-9bba-01838c3af693",
   "metadata": {},
   "outputs": [
    {
     "data": {
      "text/plain": [
       "'../results/EMNIST_7_gd.npy'"
      ]
     },
     "execution_count": 30,
     "metadata": {},
     "output_type": "execute_result"
    }
   ],
   "source": [
    "SAVE_FILE"
   ]
  },
  {
   "cell_type": "code",
   "execution_count": null,
   "id": "377b4f76-73e6-47d9-82ee-90474a7a953c",
   "metadata": {},
   "outputs": [
    {
     "name": "stdout",
     "output_type": "stream",
     "text": [
      "PLM computation: num_epochs = 100, lr = 9.999999747378752e-06, b_size = 10\n",
      "Round 5 / 40\r"
     ]
    }
   ],
   "source": [
    "table = grid_search(\n",
    "    train_fd, validation_fd, grad_fn, grad_fn_eval, model, alpha,\n",
    "    plm_comp_params, fedmix_comp_params, grid, PLM_NUM_EPOCHS,\n",
    "    NUM_CLIENTS_PER_FEDMIX_ROUND, SAVE_FILE\n",
    ")"
   ]
  },
  {
   "cell_type": "code",
   "execution_count": null,
   "id": "34c80a69-1514-4250-b4b2-a2156cc3a660",
   "metadata": {},
   "outputs": [],
   "source": [
    "1"
   ]
  },
  {
   "cell_type": "code",
   "execution_count": null,
   "id": "d0658fef-b971-400c-8f67-c19859d2b865",
   "metadata": {},
   "outputs": [],
   "source": [
    "jnp.unravel_index(jnp.argmax(table), table.shape)"
   ]
  },
  {
   "cell_type": "code",
   "execution_count": null,
   "id": "d563168e-b10e-45ef-ae57-44f5279f559a",
   "metadata": {},
   "outputs": [],
   "source": []
  }
 ],
 "metadata": {
  "kernelspec": {
   "display_name": "Python 3 (ipykernel)",
   "language": "python",
   "name": "python3"
  },
  "language_info": {
   "codemirror_mode": {
    "name": "ipython",
    "version": 3
   },
   "file_extension": ".py",
   "mimetype": "text/x-python",
   "name": "python",
   "nbconvert_exporter": "python",
   "pygments_lexer": "ipython3",
   "version": "3.8.12"
  }
 },
 "nbformat": 4,
 "nbformat_minor": 5
}
