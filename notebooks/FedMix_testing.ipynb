{
 "cells": [
  {
   "cell_type": "code",
   "execution_count": 1,
   "id": "a5930b1a-0489-46ae-9bd8-1b5c1d0471bf",
   "metadata": {},
   "outputs": [],
   "source": [
    "from absl import app\n",
    "\n",
    "import fedjax\n",
    "from fedjax.core import tree_util\n",
    "\n",
    "import jax\n",
    "import jax.numpy as jnp\n",
    "\n",
    "import PLM\n",
    "import itertools\n",
    "import FedMix"
   ]
  },
  {
   "cell_type": "code",
   "execution_count": 2,
   "id": "db531897-a646-4418-994d-523f3fb5835b",
   "metadata": {},
   "outputs": [
    {
     "name": "stderr",
     "output_type": "stream",
     "text": [
      "Reusing cached file '/home/gasanoe/.cache/fedjax/shakespeare_train.sqlite'\n",
      "Reusing cached file '/home/gasanoe/.cache/fedjax/shakespeare_test.sqlite'\n"
     ]
    }
   ],
   "source": [
    "train_fd, test_fd = fedjax.datasets.shakespeare.load_data()"
   ]
  },
  {
   "cell_type": "code",
   "execution_count": 3,
   "id": "7bf012b6-f3a3-4d74-8295-7833d0ee1788",
   "metadata": {},
   "outputs": [],
   "source": [
    "model = fedjax.models.shakespeare.create_lstm_model()"
   ]
  },
  {
   "cell_type": "code",
   "execution_count": 4,
   "id": "4c3921f1-8668-4e6c-b61d-095ee002b670",
   "metadata": {},
   "outputs": [],
   "source": [
    "def loss(params, batch, rng):\n",
    "    # `rng` used with `apply_for_train` to apply dropout during training.\n",
    "    preds = model.apply_for_train(params, batch, rng)\n",
    "    # Per example loss of shape [batch_size].\n",
    "    example_loss = model.train_loss(batch, preds)\n",
    "    return jnp.mean(example_loss)"
   ]
  },
  {
   "cell_type": "code",
   "execution_count": 5,
   "id": "c6c7b517-1263-4242-87d5-5e5eb3fd7862",
   "metadata": {},
   "outputs": [],
   "source": [
    "grad_fn = jax.jit(jax.grad(loss))"
   ]
  },
  {
   "cell_type": "code",
   "execution_count": 6,
   "id": "ef9d9c6a-fa24-441a-9a6d-c085cc1e9148",
   "metadata": {},
   "outputs": [],
   "source": [
    "def loss_for_eval(params, batch):\n",
    "    preds = model.apply_for_eval(params, batch)\n",
    "    example_loss = model.train_loss(batch, preds)\n",
    "    return jnp.mean(example_loss)"
   ]
  },
  {
   "cell_type": "code",
   "execution_count": 7,
   "id": "75bbf2fe-5c11-4768-864c-8b78a0e46f26",
   "metadata": {},
   "outputs": [],
   "source": [
    "grad_fn_eval = jax.jit(jax.grad(loss_for_eval))"
   ]
  },
  {
   "cell_type": "code",
   "execution_count": 8,
   "id": "307ec871-b611-4a9e-965a-77f52e3a9b29",
   "metadata": {},
   "outputs": [],
   "source": [
    "init_params = model.init(jax.random.PRNGKey(11))"
   ]
  },
  {
   "cell_type": "code",
   "execution_count": 9,
   "id": "7154be2c-b7f3-45ee-a803-d3fc6f5e7a6d",
   "metadata": {},
   "outputs": [],
   "source": [
    "client_ids = train_fd.client_ids()"
   ]
  },
  {
   "cell_type": "code",
   "execution_count": 10,
   "id": "eaecd3b8-365c-4d04-9519-04aee632650c",
   "metadata": {},
   "outputs": [],
   "source": [
    "PLM_dict = {}\n",
    "alphas_dict = {}\n",
    "alpha = 0.5\n",
    "for client_id in client_ids:\n",
    "    PLM_dict[client_id] = tree_util.tree_zeros_like(init_params)\n",
    "    alphas_dict[client_id] = alpha"
   ]
  },
  {
   "cell_type": "code",
   "execution_count": 11,
   "id": "45487ffc-ce8d-4060-b078-70e9ef52aa26",
   "metadata": {},
   "outputs": [],
   "source": [
    "server_optimizer = fedjax.optimizers.adam(learning_rate=10**(-2.5), b1=0.9, b2=0.999, eps=10**(-4))"
   ]
  },
  {
   "cell_type": "code",
   "execution_count": 12,
   "id": "f4dc0a65-ff98-44df-bc4d-f1c5662ead69",
   "metadata": {},
   "outputs": [],
   "source": [
    "client_batch_hparams = fedjax.ShuffleRepeatBatchHParams(batch_size=50, num_steps=1)"
   ]
  },
  {
   "cell_type": "code",
   "execution_count": 13,
   "id": "63ccf1cc-c9f9-4b0c-bc05-d8fca875d76a",
   "metadata": {},
   "outputs": [],
   "source": [
    "algorithm = FedMix.fedmix(grad_fn, server_optimizer, client_batch_hparams, PLM_dict, alphas_dict)"
   ]
  },
  {
   "cell_type": "code",
   "execution_count": 14,
   "id": "ab80f91c-f519-45c1-adba-d82208c01de6",
   "metadata": {},
   "outputs": [],
   "source": [
    "server_state = algorithm.init(init_params)"
   ]
  },
  {
   "cell_type": "code",
   "execution_count": 15,
   "id": "a7728866-d952-4eed-85df-d247a8cac2e7",
   "metadata": {},
   "outputs": [
    {
     "name": "stdout",
     "output_type": "stream",
     "text": [
      "debug\n",
      "[round 1] client_diagnostics={b'fe62b57330b09ae2:THE_FIRST_PART_OF_KING_HENRY_THE_FOURTH_BOLINGBROKE': {'delta_l2_norm': DeviceArray(0.12142139, dtype=float32)}, b'be654813264020f9:THE_TAMING_OF_THE_SHREW_MARCUS': {'delta_l2_norm': DeviceArray(0.08075441, dtype=float32)}, b'e16bfa29226db143:ALL_S_WELL_THAT_ENDS_WELL_MARCIUS': {'delta_l2_norm': DeviceArray(0.12572527, dtype=float32)}, b'8874bb1a3270b6ae:THE_FIRST_PART_OF_KING_HENRY_THE_FOURTH_COMMONS': {'delta_l2_norm': DeviceArray(0.10309148, dtype=float32)}, b'93bae0966643b967:ALL_S_WELL_THAT_ENDS_WELL_GUARDSMAN': {'delta_l2_norm': DeviceArray(0.04885468, dtype=float32)}, b'a8636ae06a2e4d5f:ALL_S_WELL_THAT_ENDS_WELL_OCTAVIA': {'delta_l2_norm': DeviceArray(0.10725318, dtype=float32)}, b'9c4a003c160fbb25:ALL_S_WELL_THAT_ENDS_WELL_AGRIPPA': {'delta_l2_norm': DeviceArray(0.12040406, dtype=float32)}, b'adeabea0708893ba:THE_FIRST_PART_OF_KING_HENRY_THE_FOURTH_HERALD': {'delta_l2_norm': DeviceArray(0.07770044, dtype=float32)}, b'b6f359ae0305b1b1:THE_TRAGEDY_OF_KING_LEAR_QUICKLY': {'delta_l2_norm': DeviceArray(0.1250827, dtype=float32)}, b'a9a5563201ce32f4:THE_TRAGEDY_OF_KING_LEAR_LYSANDER': {'delta_l2_norm': DeviceArray(0.12923151, dtype=float32)}}\n",
      "debug\n",
      "[round 2] client_diagnostics={b'd1c9ad18e1bcab47:PERICLES__PRINCE_OF_TYRE_AUMERLE': {'delta_l2_norm': DeviceArray(0.1301867, dtype=float32)}, b'4a0f2a123e1045e6:THE_FIRST_PART_OF_KING_HENRY_THE_FOURTH_SCALES': {'delta_l2_norm': DeviceArray(0.1235861, dtype=float32)}, b'5e205ea8a8263657:THE_TRAGEDY_OF_KING_LEAR_DOCTOR': {'delta_l2_norm': DeviceArray(0.12450272, dtype=float32)}, b'eab2941c47f47e17:ALL_S_WELL_THAT_ENDS_WELL_SECOND_SERVANT': {'delta_l2_norm': DeviceArray(0.12600951, dtype=float32)}, b'c1ac1c3de6e1b63f:THE_TAMING_OF_THE_SHREW_SECOND_BANDIT': {'delta_l2_norm': DeviceArray(0.09893883, dtype=float32)}, b'9de8787317fee036:PERICLES__PRINCE_OF_TYRE_SON': {'delta_l2_norm': DeviceArray(0.11324722, dtype=float32)}, b'5287497c0b4b329f:THE_TAMING_OF_THE_SHREW_PROSPERO': {'delta_l2_norm': DeviceArray(0.12655523, dtype=float32)}, b'5555c3863e09430e:THE_FIRST_PART_OF_KING_HENRY_THE_FOURTH_GENERAL_OF_THE_FRENCH': {'delta_l2_norm': DeviceArray(0.06010483, dtype=float32)}, b'94b1aaaa320994f4:THE_FIRST_PART_OF_KING_HENRY_THE_FOURTH_HARCOURT': {'delta_l2_norm': DeviceArray(0.07179788, dtype=float32)}, b'c123d78117e1cc2d:THE_FIRST_PART_OF_KING_HENRY_THE_FOURTH_MARGARET': {'delta_l2_norm': DeviceArray(0.12611282, dtype=float32)}}\n"
     ]
    }
   ],
   "source": [
    "train_client_sampler = fedjax.client_samplers.UniformGetClientSampler(fd=train_fd, num_clients=10, seed=0)\n",
    "for round_num in range(1, 3):\n",
    "# Sample 10 clients per round without replacement for training.\n",
    "    clients = train_client_sampler.sample()\n",
    "    print('debug')\n",
    "    # Run one round of training on sampled clients.\n",
    "    server_state, client_diagnostics = algorithm.apply(server_state, clients);\n",
    "    # print(f'[round {round_num}]')\n",
    "    # Optionally print client diagnostics if curious about each client's model\n",
    "    # update's l2 norm.\n",
    "    print(f'[round {round_num}] client_diagnostics={client_diagnostics}')"
   ]
  },
  {
   "cell_type": "code",
   "execution_count": null,
   "id": "210a6139-889e-4499-bff2-ec43128bc893",
   "metadata": {},
   "outputs": [],
   "source": []
  }
 ],
 "metadata": {
  "kernelspec": {
   "display_name": "Python 3 (ipykernel)",
   "language": "python",
   "name": "python3"
  },
  "language_info": {
   "codemirror_mode": {
    "name": "ipython",
    "version": 3
   },
   "file_extension": ".py",
   "mimetype": "text/x-python",
   "name": "python",
   "nbconvert_exporter": "python",
   "pygments_lexer": "ipython3",
   "version": "3.8.12"
  }
 },
 "nbformat": 4,
 "nbformat_minor": 5
}
