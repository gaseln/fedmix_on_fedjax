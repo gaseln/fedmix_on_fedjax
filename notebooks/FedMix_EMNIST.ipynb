{
 "cells": [
  {
   "cell_type": "markdown",
   "id": "f8cba479-ddee-43f8-8dd1-46c9ffb18a6a",
   "metadata": {},
   "source": [
    "# Importing packages"
   ]
  },
  {
   "cell_type": "code",
   "execution_count": 1,
   "id": "6c1069d8-27bc-4b5b-95a7-c8b81fa4ec83",
   "metadata": {},
   "outputs": [],
   "source": [
    "import sys\n",
    "sys.path.append('/home/gasanoe/fedmix_on_fedjax/src/')"
   ]
  },
  {
   "cell_type": "code",
   "execution_count": 2,
   "id": "a5930b1a-0489-46ae-9bd8-1b5c1d0471bf",
   "metadata": {},
   "outputs": [],
   "source": [
    "from absl import app\n",
    "import pickle\n",
    "from matplotlib import pyplot as plt\n",
    "\n",
    "import fedjax\n",
    "from fedjax.core import tree_util\n",
    "\n",
    "import jax\n",
    "import jax.numpy as jnp\n",
    "\n",
    "import PLM\n",
    "import itertools\n",
    "import FedMix\n",
    "from custom_utils import emnist_load_gd_data\n",
    "\n",
    "from IPython.core.debugger import set_trace"
   ]
  },
  {
   "cell_type": "markdown",
   "id": "07614dae-0a42-4d4b-87ac-05dbe33f36e1",
   "metadata": {
    "jp-MarkdownHeadingCollapsed": true,
    "tags": []
   },
   "source": [
    "# How to make FedMix work - ideas"
   ]
  },
  {
   "cell_type": "markdown",
   "id": "ebe7a15e-75c7-48b6-a577-556eec55ef11",
   "metadata": {},
   "source": [
    "<ul>\n",
    "    <li> Find the best hyperparameters by running the whole experiment on 3k rounds </li>\n",
    "    <li> Good starting point </li>\n",
    "</ul>"
   ]
  },
  {
   "cell_type": "markdown",
   "id": "cd70883c-b077-42b6-89fb-9381d9db0912",
   "metadata": {},
   "source": [
    "# Setting up the experiment"
   ]
  },
  {
   "cell_type": "code",
   "execution_count": 3,
   "id": "db531897-a646-4418-994d-523f3fb5835b",
   "metadata": {},
   "outputs": [
    {
     "name": "stderr",
     "output_type": "stream",
     "text": [
      "Reusing cached file '../data/federated_emnist_train.sqlite'\n",
      "Reusing cached file '../data/federated_emnist_test.sqlite'\n"
     ]
    }
   ],
   "source": [
    "train_fd, test_fd = fedjax.datasets.emnist.load_data(only_digits=False, cache_dir='../data/')"
   ]
  },
  {
   "cell_type": "code",
   "execution_count": 4,
   "id": "7bf012b6-f3a3-4d74-8295-7833d0ee1788",
   "metadata": {},
   "outputs": [],
   "source": [
    "model = fedjax.models.emnist.create_conv_model(only_digits=False)"
   ]
  },
  {
   "cell_type": "code",
   "execution_count": 5,
   "id": "e155c588-80e8-467c-889d-ccb0964374bd",
   "metadata": {},
   "outputs": [
    {
     "name": "stderr",
     "output_type": "stream",
     "text": [
      "Reusing cached file '../data/federated_emnist_train.sqlite'\n"
     ]
    }
   ],
   "source": [
    "train_gd_fd, val_gd_fd = emnist_load_gd_data(only_digits=False, cache_dir='../data/')"
   ]
  },
  {
   "cell_type": "code",
   "execution_count": null,
   "id": "7d7e3746-5dba-4081-96a5-797862fc8daa",
   "metadata": {},
   "outputs": [],
   "source": []
  },
  {
   "cell_type": "code",
   "execution_count": null,
   "id": "17f4cbde-36cf-410a-bc30-433f5ffde606",
   "metadata": {},
   "outputs": [],
   "source": [
    "# fedjax.training.set_tf_cpu_only()"
   ]
  },
  {
   "cell_type": "code",
   "execution_count": null,
   "id": "f486a382-3fe6-4116-89ae-e713fbd5c130",
   "metadata": {},
   "outputs": [],
   "source": [
    "# fedjax.set_for_each_client_backend('pmap')"
   ]
  },
  {
   "cell_type": "code",
   "execution_count": 8,
   "id": "4c3921f1-8668-4e6c-b61d-095ee002b670",
   "metadata": {},
   "outputs": [],
   "source": [
    "def loss(params, batch, rng):\n",
    "    # `rng` used with `apply_for_train` to apply dropout during training.\n",
    "    preds = model.apply_for_train(params, batch, rng)\n",
    "    # Per example loss of shape [batch_size].\n",
    "    example_loss = model.train_loss(batch, preds)\n",
    "    return jnp.mean(example_loss)"
   ]
  },
  {
   "cell_type": "code",
   "execution_count": 9,
   "id": "c6c7b517-1263-4242-87d5-5e5eb3fd7862",
   "metadata": {},
   "outputs": [],
   "source": [
    "grad_fn = jax.jit(jax.grad(loss))"
   ]
  },
  {
   "cell_type": "code",
   "execution_count": 10,
   "id": "ef9d9c6a-fa24-441a-9a6d-c085cc1e9148",
   "metadata": {},
   "outputs": [],
   "source": [
    "def loss_for_eval(params, batch):\n",
    "    preds = model.apply_for_eval(params, batch)\n",
    "    example_loss = model.train_loss(batch, preds)\n",
    "    return jnp.mean(example_loss)"
   ]
  },
  {
   "cell_type": "code",
   "execution_count": 11,
   "id": "75bbf2fe-5c11-4768-864c-8b78a0e46f26",
   "metadata": {},
   "outputs": [],
   "source": [
    "grad_fn_eval = jax.jit(jax.grad(loss_for_eval))"
   ]
  },
  {
   "cell_type": "code",
   "execution_count": 12,
   "id": "7154be2c-b7f3-45ee-a803-d3fc6f5e7a6d",
   "metadata": {},
   "outputs": [],
   "source": [
    "client_ids = train_fd.client_ids()"
   ]
  },
  {
   "cell_type": "code",
   "execution_count": 13,
   "id": "eaecd3b8-365c-4d04-9519-04aee632650c",
   "metadata": {},
   "outputs": [],
   "source": [
    "PLM_dict = {}\n",
    "alphas_dict = {}\n",
    "alpha = 0.7\n",
    "for client_id in client_ids:\n",
    "    alphas_dict[client_id] = jnp.asarray(alpha)"
   ]
  },
  {
   "cell_type": "code",
   "execution_count": 14,
   "id": "1bf4163e-1351-403f-8f2a-ca72f20f1d5f",
   "metadata": {},
   "outputs": [],
   "source": [
    "save_plm_file = '../results/PLM_EMNIST.pickle'"
   ]
  },
  {
   "cell_type": "code",
   "execution_count": 15,
   "id": "b6f3a627-e2af-40da-9613-45df16ba8957",
   "metadata": {},
   "outputs": [],
   "source": [
    "with open(save_plm_file, 'rb') as handle:\n",
    "    PLM_dict = pickle.load(handle)"
   ]
  },
  {
   "cell_type": "code",
   "execution_count": 16,
   "id": "3c8db0f7-49b3-4631-b5d9-3033e6933dde",
   "metadata": {},
   "outputs": [],
   "source": [
    "init_params = model.init(jax.random.PRNGKey(11))\n",
    "init_params = tree_util.tree_zeros_like(init_params)"
   ]
  },
  {
   "cell_type": "code",
   "execution_count": 17,
   "id": "f8bde3b8-dee3-4576-8fc1-d8091cec3b07",
   "metadata": {},
   "outputs": [],
   "source": [
    "def add_new(params, new_params, num):\n",
    "    \"\"\"\"Recompute the running mean.\"\"\"\n",
    "    return tree_util.tree_add(tree_util.tree_weight(params, float(num / (num + 1))), tree_util.tree_weight(new_params, float(1 / (num + 1))))"
   ]
  },
  {
   "cell_type": "code",
   "execution_count": 18,
   "id": "ccd6c06a-c64f-4134-aacc-1a912f0d162e",
   "metadata": {},
   "outputs": [],
   "source": [
    "# we compute the average of the first 3000 clients' plms\n",
    "num = 0\n",
    "for client_id, client_plm in PLM_dict.items():\n",
    "    if num < 3000:\n",
    "        init_params = add_new(init_params, client_plm, num)\n",
    "        num += 1\n",
    "    else:\n",
    "        break"
   ]
  },
  {
   "cell_type": "markdown",
   "id": "95a7d451-5312-4360-8566-ab0c5ea03ae1",
   "metadata": {
    "tags": []
   },
   "source": [
    "# GridSearch"
   ]
  },
  {
   "cell_type": "code",
   "execution_count": 26,
   "id": "a7a5c9de-55d8-488d-a3a6-efd41f4d0418",
   "metadata": {},
   "outputs": [],
   "source": [
    "server_lrs = 10**jnp.arange(-3, 0.5, 0.5)\n",
    "fedmix_batch_sizes = [10, 20, 50]"
   ]
  },
  {
   "cell_type": "code",
   "execution_count": 27,
   "id": "aea0c068-fcd7-414b-8f63-78a793a5b1b9",
   "metadata": {},
   "outputs": [],
   "source": [
    "client_lrs = 10**jnp.arange(-3, 0.5, 0.5)\n",
    "plm_batch_sizes = [10, 20, 50]"
   ]
  },
  {
   "cell_type": "code",
   "execution_count": 29,
   "id": "398a428d-a3cd-43c8-a3c7-d39318d88c51",
   "metadata": {},
   "outputs": [],
   "source": [
    "num_clients_per_round=10\n",
    "max_rounds = 2000"
   ]
  },
  {
   "cell_type": "code",
   "execution_count": null,
   "id": "f960ccb0-93bb-4518-bbbb-b92f7ade1b51",
   "metadata": {},
   "outputs": [],
   "source": []
  },
  {
   "cell_type": "code",
   "execution_count": null,
   "id": "7d23f154-10c8-4b5b-9b5f-abf9d7340337",
   "metadata": {},
   "outputs": [],
   "source": []
  },
  {
   "cell_type": "code",
   "execution_count": null,
   "id": "fcc96f5b-bbef-462e-9443-ec4477198d54",
   "metadata": {},
   "outputs": [],
   "source": [
    "GridSearch_table_fedmix = jnp.zeros(shape=(len(lrs), len(batch_sizes)))"
   ]
  },
  {
   "cell_type": "code",
   "execution_count": null,
   "id": "5e0b340a-7a6e-4583-9bbe-0837665b32ed",
   "metadata": {},
   "outputs": [],
   "source": [
    "client_batch_hparams_eval = fedjax.BatchHParams(batch_size=256)"
   ]
  },
  {
   "cell_type": "code",
   "execution_count": null,
   "id": "173f69a2-ece2-4dbe-80a5-1b1dbf5b3b7a",
   "metadata": {},
   "outputs": [],
   "source": [
    "num_clients_for_validation = 400"
   ]
  },
  {
   "cell_type": "code",
   "execution_count": null,
   "id": "bfafd850-f7e4-4f8b-8314-a90dfcaf45d0",
   "metadata": {},
   "outputs": [],
   "source": [
    "train_data = itertools.islice(train_fd.clients(), train_fd.num_clients() - num_clients_for_validation)\n",
    "validation_data = itertools.islice(train_fd.clients(), train_fd.num_clients() - num_clients_for_validation, train_fd.num_clients())"
   ]
  },
  {
   "cell_type": "code",
   "execution_count": null,
   "id": "cab03f70-ae06-4d1f-98b6-f5fb3426f6f2",
   "metadata": {},
   "outputs": [],
   "source": [
    "for lr_id, lr in enumerate(lrs):\n",
    "    print('Learning rate = {}'.format(lr))\n",
    "    for b_id, batch_size in enumerate(batch_sizes):\n",
    "        train_data = itertools.islice(train_fd.clients(), train_fd.num_clients() - num_clients_for_validation)\n",
    "        validation_data = itertools.islice(train_fd.clients(), train_fd.num_clients() - num_clients_for_validation, train_fd.num_clients())\n",
    "        print('Batch size = {}'.format(batch_size))\n",
    "        server_optimizer = fedjax.optimizers.adam(learning_rate=lr, b1=0.9, b2=0.999, eps=10**(-4))\n",
    "        train_client_sampler = fedjax.client_samplers.UniformShuffledClientSampler(itertools.cycle(train_data), num_clients_per_round)\n",
    "        validation_client_sampler = fedjax.client_samplers.UniformShuffledClientSampler(itertools.cycle(validation_data), num_clients_for_validation)\n",
    "        client_batch_hparams = fedjax.ShuffleRepeatBatchHParams(batch_size=batch_size, num_steps=1)\n",
    "        algorithm = FedMix.fedmix(grad_fn, server_optimizer, client_batch_hparams, PLM_dict, alphas_dict)\n",
    "        server_state = algorithm.init(init_params)\n",
    "        for round_num in range(max_rounds):\n",
    "            print('Round {} / {}'.format(round_num + 1, max_rounds), end='\\r')\n",
    "            clients = train_client_sampler.sample()\n",
    "            server_state, _ = algorithm.apply(server_state, clients)\n",
    "        clients = validation_client_sampler.sample()\n",
    "        client_data_for_evaluation = [(alphas_dict[cid], PLM_dict[cid], cds) for cid, cds, _ in clients]\n",
    "        grid_search_metrics = FedMix.evaluate_model(model, server_state.params, client_data_for_evaluation, client_batch_hparams_eval)\n",
    "        print('\\n Accuracy on testing clients is {}'.format(grid_search_metrics['accuracy']))\n",
    "        GridSearch_table_fedmix = GridSearch_table_fedmix.at[lr_id, b_id].set(grid_search_metrics['accuracy'])"
   ]
  },
  {
   "cell_type": "code",
   "execution_count": null,
   "id": "e31117a0-4cf1-4863-b771-377b05a7667b",
   "metadata": {},
   "outputs": [],
   "source": [
    "import pandas as pd"
   ]
  },
  {
   "cell_type": "code",
   "execution_count": null,
   "id": "bc89155a-d61e-41e2-8109-d536b40c3b36",
   "metadata": {},
   "outputs": [],
   "source": [
    "df = pd.DataFrame(GridSearch_table_fedmix, columns=batch_sizes, index=lrs)"
   ]
  },
  {
   "cell_type": "code",
   "execution_count": null,
   "id": "ea27135f-387a-4363-bff1-2b272c3c1dc7",
   "metadata": {},
   "outputs": [],
   "source": [
    "df"
   ]
  },
  {
   "cell_type": "markdown",
   "id": "682b7fb2-f9bc-409c-9555-77f1ad460773",
   "metadata": {},
   "source": [
    "# FedMix"
   ]
  },
  {
   "cell_type": "code",
   "execution_count": null,
   "id": "7ee2fc51-059a-4dae-9aa0-a08ce49815a9",
   "metadata": {},
   "outputs": [],
   "source": [
    "# batch_size = 100\n",
    "# lr = 0.01"
   ]
  },
  {
   "cell_type": "code",
   "execution_count": null,
   "id": "cda9ede5-8f1f-4c6c-a4bc-5da76ada6b18",
   "metadata": {},
   "outputs": [],
   "source": [
    "batch_size = 100\n",
    "lr = 10**(-2.5)"
   ]
  },
  {
   "cell_type": "code",
   "execution_count": null,
   "id": "c4d6632c-d8c2-47df-88ec-cf477bae81a3",
   "metadata": {},
   "outputs": [],
   "source": [
    "lr"
   ]
  },
  {
   "cell_type": "code",
   "execution_count": null,
   "id": "f5374c5d-3a47-4b2a-b018-85c5372f166d",
   "metadata": {},
   "outputs": [],
   "source": [
    "num_clients_per_round=10\n",
    "max_rounds = 3000"
   ]
  },
  {
   "cell_type": "code",
   "execution_count": null,
   "id": "740ad21a-c6f8-4fe9-8733-bbd0057da7ff",
   "metadata": {},
   "outputs": [],
   "source": [
    "client_batch_hparams_eval = fedjax.BatchHParams(batch_size=256)"
   ]
  },
  {
   "cell_type": "code",
   "execution_count": null,
   "id": "94d52349-218f-445c-9a2f-e91d99a6e668",
   "metadata": {},
   "outputs": [],
   "source": [
    "test_client_sampler = fedjax.client_samplers.UniformGetClientSampler(fd=test_fd, num_clients=test_fd.num_clients(), seed=0)"
   ]
  },
  {
   "cell_type": "code",
   "execution_count": null,
   "id": "5be377cc-b395-43da-abb1-97bfa9ae0cb8",
   "metadata": {},
   "outputs": [],
   "source": [
    "alphas = [0.1, 0.2, 0.3, 0.4, 0.5, 0.6, 0.7, 0.8, 0.9]"
   ]
  },
  {
   "cell_type": "code",
   "execution_count": null,
   "id": "b381ad7a-6bb7-4f36-854b-7dddf4836569",
   "metadata": {},
   "outputs": [],
   "source": [
    "test_acc_progress = []"
   ]
  },
  {
   "cell_type": "code",
   "execution_count": null,
   "id": "f007dafb-f693-4c6e-b16a-ae214323c847",
   "metadata": {},
   "outputs": [],
   "source": [
    "server_optimizer = fedjax.optimizers.adam(learning_rate=lr, b1=0.9, b2=0.999, eps=10**(-4))\n",
    "client_batch_hparams = fedjax.ShuffleRepeatBatchHParams(batch_size=batch_size, num_steps=1)\n",
    "for alpha in alphas:\n",
    "    print('alpha = {}'.format(alpha))\n",
    "    train_client_sampler = fedjax.client_samplers.UniformGetClientSampler(fd=train_fd, num_clients=num_clients_per_round, seed=0)\n",
    "    alphas_dict = {}\n",
    "    for client_id in train_fd.client_ids():\n",
    "        alphas_dict[client_id] = jnp.asarray(alpha)\n",
    "    algorithm = FedMix.fedmix(grad_fn, server_optimizer, client_batch_hparams, PLM_dict, alphas_dict)\n",
    "    init_params = model.init(jax.random.PRNGKey(3))\n",
    "    server_state = algorithm.init(init_params)\n",
    "    curr_test_acc_progress = []\n",
    "    for round_num in range(1, max_rounds + 1):\n",
    "        print('Round {} / {}'.format(round_num, max_rounds), end='\\r')\n",
    "        clients = train_client_sampler.sample()\n",
    "        server_state, _ = algorithm.apply(server_state, clients)\n",
    "        if round_num % 100 == 0:        \n",
    "            clients = test_client_sampler.sample()\n",
    "            client_data_for_evaluation = [(alphas_dict[cid], PLM_dict[cid], cds) for cid, cds, _ in clients]\n",
    "            test_metrics = FedMix.evaluate_model(model, server_state.params, client_data_for_evaluation, client_batch_hparams_eval)\n",
    "            curr_test_acc_progress.append(test_metrics['accuracy'])\n",
    "            print('Test accuracy = {}'.format(test_metrics['accuracy']))\n",
    "    test_acc_progress.append(curr_test_acc_progress)"
   ]
  },
  {
   "cell_type": "code",
   "execution_count": null,
   "id": "c4a8d9e2-f972-4d0a-9df2-576503da997b",
   "metadata": {},
   "outputs": [],
   "source": [
    "len(test_acc_progress)"
   ]
  },
  {
   "cell_type": "code",
   "execution_count": null,
   "id": "4d2be6bb-c4c9-4cae-a850-3917c8741140",
   "metadata": {},
   "outputs": [],
   "source": [
    "save_file = '../results/test_acc_FedMix.pickle'"
   ]
  },
  {
   "cell_type": "code",
   "execution_count": null,
   "id": "87da1c32-100e-48cc-b9a8-cff597cc0eef",
   "metadata": {},
   "outputs": [],
   "source": [
    "with open(save_file, 'wb') as handle:\n",
    "    pickle.dump(test_acc_progress, handle)"
   ]
  },
  {
   "cell_type": "code",
   "execution_count": null,
   "id": "85f65e78-20bc-4bf4-abf8-d2753549716d",
   "metadata": {},
   "outputs": [],
   "source": [
    "with open(save_file, 'rb') as handle:\n",
    "    test_acc_progress = pickle.load(handle)"
   ]
  },
  {
   "cell_type": "code",
   "execution_count": null,
   "id": "273e233d-2d27-4dae-b928-e37dda9871a8",
   "metadata": {},
   "outputs": [],
   "source": [
    "for alpha_id, alpha in enumerate(alphas):\n",
    "    plt.plot(jnp.arange(100, 5001, 100), test_acc_progress[alpha_id], label='FedMix {}'.format(alpha))\n",
    "plt.ylabel('accuracy')\n",
    "plt.xlabel('rounds')\n",
    "plt.title('EMNIST')\n",
    "plt.xlim(left=0)\n",
    "plt.tight_layout()\n",
    "plt.legend()\n",
    "# plt.savefig('../results/first_plot.pdf')"
   ]
  },
  {
   "cell_type": "code",
   "execution_count": null,
   "id": "f5b064c9-3db2-4bb2-b412-be33837d4e88",
   "metadata": {},
   "outputs": [],
   "source": [
    "plt.plot(jnp.arange(100, 5001, 100), test_acc_progress[7], label='FedMix')\n",
    "plt.ylabel('accuracy')\n",
    "plt.xlabel('rounds')\n",
    "plt.title('EMNIST')\n",
    "plt.xlim(left=0)\n",
    "plt.tight_layout()\n",
    "# plt.legend()"
   ]
  },
  {
   "cell_type": "markdown",
   "id": "471400ec-125f-430e-8a72-857375e10908",
   "metadata": {},
   "source": [
    "## Separate alpha training"
   ]
  },
  {
   "cell_type": "code",
   "execution_count": null,
   "id": "b535de31-604b-4e7b-9702-9eda38a2e4b8",
   "metadata": {},
   "outputs": [],
   "source": [
    "alpha = 0.7"
   ]
  },
  {
   "cell_type": "code",
   "execution_count": null,
   "id": "52db9518-82ad-4531-b004-c0eec46a1182",
   "metadata": {},
   "outputs": [],
   "source": [
    "server_optimizer = fedjax.optimizers.adam(learning_rate=lr, b1=0.9, b2=0.999, eps=10**(-4))\n",
    "client_batch_hparams = fedjax.ShuffleRepeatBatchHParams(batch_size=batch_size, num_steps=1)\n",
    "\n",
    "train_client_sampler = fedjax.client_samplers.UniformGetClientSampler(fd=train_fd, num_clients=num_clients_per_round, seed=0)\n",
    "alphas_dict = {}\n",
    "for client_id in train_fd.client_ids():\n",
    "    alphas_dict[client_id] = jnp.asarray(alpha)\n",
    "algorithm = FedMix.fedmix(grad_fn, server_optimizer, client_batch_hparams, PLM_dict, alphas_dict)\n",
    "# init_params = model.init(jax.random.PRNGKey(3))\n",
    "server_state = algorithm.init(init_params)\n",
    "curr_test_acc_progress = []\n",
    "for round_num in range(1, max_rounds + 1):\n",
    "    print('Round {} / {}'.format(round_num, max_rounds), end='\\r')\n",
    "    clients = train_client_sampler.sample()\n",
    "    server_state, _ = algorithm.apply(server_state, clients)\n",
    "    if round_num % 100 == 0:        \n",
    "        clients = test_client_sampler.sample()\n",
    "        client_data_for_evaluation = [(alphas_dict[cid], PLM_dict[cid], cds) for cid, cds, _ in clients]\n",
    "        test_metrics = FedMix.evaluate_model(model, server_state.params, client_data_for_evaluation, client_batch_hparams_eval)\n",
    "        curr_test_acc_progress.append(test_metrics['accuracy'])\n",
    "        print('Test accuracy = {}'.format(test_metrics['accuracy']))"
   ]
  },
  {
   "cell_type": "code",
   "execution_count": null,
   "id": "79a5a38d-62c2-4386-8503-d477e1785e1a",
   "metadata": {},
   "outputs": [],
   "source": [
    "curr_test_acc_progress"
   ]
  },
  {
   "cell_type": "markdown",
   "id": "5d32f1c8-eedd-4a85-ad6e-ff5f7fc31100",
   "metadata": {},
   "source": [
    "# FedAvg"
   ]
  },
  {
   "cell_type": "code",
   "execution_count": null,
   "id": "8dfc7043-255a-4fa1-a443-1b4b1a7f3383",
   "metadata": {},
   "outputs": [],
   "source": [
    "client_optimizer = fedjax.optimizers.sgd(learning_rate=10**(-1.5))\n",
    "server_optimizer = fedjax.optimizers.adam(\n",
    "learning_rate=10**(-2.5), b1=0.9, b2=0.999, eps=10**(-4))\n",
    "# Hyperparameters for client local traing dataset preparation.\n",
    "client_batch_hparams = fedjax.ShuffleRepeatBatchHParams(batch_size=20)\n",
    "algorithm = fedjax.algorithms.fed_avg.federated_averaging(grad_fn, client_optimizer,\n",
    "                                          server_optimizer,\n",
    "                                          client_batch_hparams)\n",
    "# Initialize model parameters and algorithm server state.\n",
    "init_params = model.init(jax.random.PRNGKey(17))\n",
    "server_state = algorithm.init(init_params)"
   ]
  },
  {
   "cell_type": "code",
   "execution_count": null,
   "id": "43405b94-5a13-4cdf-a678-99d5345481ce",
   "metadata": {},
   "outputs": [],
   "source": [
    "train_client_sampler = fedjax.client_samplers.UniformGetClientSampler(fd=train_fd, num_clients=10, seed=0)"
   ]
  },
  {
   "cell_type": "code",
   "execution_count": null,
   "id": "8f687814-e183-4830-ad41-fb8e2e2e0cdd",
   "metadata": {},
   "outputs": [],
   "source": [
    "fedavg_test_acc_progress = []"
   ]
  },
  {
   "cell_type": "code",
   "execution_count": null,
   "id": "5d45cba3-7fd2-49e3-968a-f9c89b88c549",
   "metadata": {},
   "outputs": [],
   "source": [
    "for round_num in range(1, max_rounds + 1):\n",
    "    # Sample 10 clients per round without replacement for training.\n",
    "    clients = train_client_sampler.sample()\n",
    "    # Run one round of training on sampled clients.\n",
    "    server_state, client_diagnostics = algorithm.apply(server_state, clients)\n",
    "    print(f'[round {round_num}]', end='\\r')\n",
    "    # Optionally print client diagnostics if curious about each client's model\n",
    "    # update's l2 norm.\n",
    "    # print(f'[round {round_num}] client_diagnostics={client_diagnostics}')\n",
    "\n",
    "    if round_num % 100 == 0:\n",
    "        test_eval_datasets = [cds for _, cds in test_fd.clients()]\n",
    "        test_eval_batches = fedjax.padded_batch_client_datasets(test_eval_datasets, batch_size=256)\n",
    "        test_metrics = fedjax.evaluate_model(model, server_state.params, test_eval_batches)\n",
    "        fedavg_test_acc_progress.append(test_metrics['accuracy'])\n",
    "        print('Test accuracy = {}'.format(test_metrics['accuracy']))"
   ]
  },
  {
   "cell_type": "code",
   "execution_count": null,
   "id": "b114171f-bedd-4210-b7fb-81df22f1fe34",
   "metadata": {},
   "outputs": [],
   "source": [
    "save_file = '../results/test_acc_fedavg.pickle'"
   ]
  },
  {
   "cell_type": "code",
   "execution_count": null,
   "id": "9b02b196-cc2f-421d-8bb8-b74652f01082",
   "metadata": {},
   "outputs": [],
   "source": [
    "with open(save_file, 'wb') as handle:\n",
    "    pickle.dump(fedavg_test_acc_progress, handle)"
   ]
  },
  {
   "cell_type": "code",
   "execution_count": null,
   "id": "be5cc8ab-7788-4edc-b496-72296b3d7499",
   "metadata": {},
   "outputs": [],
   "source": [
    "with open(save_file, 'rb') as handle:\n",
    "    fedavg_test_acc_progress = pickle.load(handle)"
   ]
  },
  {
   "cell_type": "code",
   "execution_count": null,
   "id": "aa0d6682-975c-4859-a1f1-e8294b1213b6",
   "metadata": {},
   "outputs": [],
   "source": [
    "fedavg_test_acc_progress_up_to_3000 = fedavg_test_acc_progress[:30]"
   ]
  },
  {
   "cell_type": "code",
   "execution_count": null,
   "id": "8c436b2c-fc37-47bd-a4d7-da34ab063956",
   "metadata": {},
   "outputs": [],
   "source": [
    "plt.plot(jnp.arange(100, 5001, 100), test_acc_progress[7], label='FedMix')\n",
    "plt.plot(jnp.arange(100, 5001, 100), fedavg_test_acc_progress, label='FedAvg')\n",
    "plt.ylabel('accuracy')\n",
    "plt.xlabel('rounds')\n",
    "plt.title('EMNIST')\n",
    "plt.xlim(left=0)\n",
    "plt.tight_layout()\n",
    "plt.legend()\n",
    "plt.savefig('../results/plots/tmp.png')"
   ]
  },
  {
   "cell_type": "code",
   "execution_count": null,
   "id": "b94e9d69-27b6-43ae-b7e8-c0ad76c095b5",
   "metadata": {},
   "outputs": [],
   "source": []
  }
 ],
 "metadata": {
  "kernelspec": {
   "display_name": "Python 3 (ipykernel)",
   "language": "python",
   "name": "python3"
  },
  "language_info": {
   "codemirror_mode": {
    "name": "ipython",
    "version": 3
   },
   "file_extension": ".py",
   "mimetype": "text/x-python",
   "name": "python",
   "nbconvert_exporter": "python",
   "pygments_lexer": "ipython3",
   "version": "3.8.12"
  }
 },
 "nbformat": 4,
 "nbformat_minor": 5
}
