{
 "cells": [
  {
   "cell_type": "markdown",
   "id": "f8cba479-ddee-43f8-8dd1-46c9ffb18a6a",
   "metadata": {},
   "source": [
    "# Importing packages"
   ]
  },
  {
   "cell_type": "code",
   "execution_count": 1,
   "id": "6c1069d8-27bc-4b5b-95a7-c8b81fa4ec83",
   "metadata": {},
   "outputs": [],
   "source": [
    "import sys\n",
    "sys.path.append('/home/gasanoe/fedmix_on_fedjax/src/')"
   ]
  },
  {
   "cell_type": "code",
   "execution_count": 2,
   "id": "a5930b1a-0489-46ae-9bd8-1b5c1d0471bf",
   "metadata": {},
   "outputs": [
    {
     "name": "stderr",
     "output_type": "stream",
     "text": [
      "2021-10-30 20:22:50.911838: W tensorflow/stream_executor/platform/default/dso_loader.cc:59] Could not load dynamic library 'libcudart.so.10.1'; dlerror: libcudart.so.10.1: cannot open shared object file: No such file or directory\n"
     ]
    }
   ],
   "source": [
    "from absl import app\n",
    "\n",
    "import fedjax\n",
    "from fedjax.core import tree_util\n",
    "\n",
    "import jax\n",
    "import jax.numpy as jnp\n",
    "\n",
    "import PLM\n",
    "import itertools\n",
    "import FedMix"
   ]
  },
  {
   "cell_type": "code",
   "execution_count": 5,
   "id": "8d58d519-e467-4ff9-9fc3-7e9477a7cea1",
   "metadata": {},
   "outputs": [],
   "source": [
    "import pickle"
   ]
  },
  {
   "cell_type": "markdown",
   "id": "d3faecc1-8459-4eb8-ad65-fa68832a784c",
   "metadata": {},
   "source": [
    "# GridSearch"
   ]
  },
  {
   "cell_type": "code",
   "execution_count": 6,
   "id": "db531897-a646-4418-994d-523f3fb5835b",
   "metadata": {},
   "outputs": [
    {
     "name": "stderr",
     "output_type": "stream",
     "text": [
      "Reusing cached file '../data/federated_emnist_train.sqlite'\n",
      "Reusing cached file '../data/federated_emnist_test.sqlite'\n"
     ]
    }
   ],
   "source": [
    "train_fd, test_fd = fedjax.datasets.emnist.load_data(only_digits=False, cache_dir='../data/')"
   ]
  },
  {
   "cell_type": "code",
   "execution_count": 7,
   "id": "7bf012b6-f3a3-4d74-8295-7833d0ee1788",
   "metadata": {},
   "outputs": [],
   "source": [
    "model = fedjax.models.emnist.create_conv_model(only_digits=False)"
   ]
  },
  {
   "cell_type": "code",
   "execution_count": null,
   "id": "17f4cbde-36cf-410a-bc30-433f5ffde606",
   "metadata": {},
   "outputs": [],
   "source": [
    "# fedjax.training.set_tf_cpu_only()"
   ]
  },
  {
   "cell_type": "code",
   "execution_count": 8,
   "id": "f486a382-3fe6-4116-89ae-e713fbd5c130",
   "metadata": {},
   "outputs": [],
   "source": [
    "fedjax.set_for_each_client_backend('pmap')"
   ]
  },
  {
   "cell_type": "code",
   "execution_count": 9,
   "id": "4c3921f1-8668-4e6c-b61d-095ee002b670",
   "metadata": {},
   "outputs": [],
   "source": [
    "def loss(params, batch, rng):\n",
    "    # `rng` used with `apply_for_train` to apply dropout during training.\n",
    "    preds = model.apply_for_train(params, batch, rng)\n",
    "    # Per example loss of shape [batch_size].\n",
    "    example_loss = model.train_loss(batch, preds)\n",
    "    return jnp.mean(example_loss)"
   ]
  },
  {
   "cell_type": "code",
   "execution_count": 10,
   "id": "c6c7b517-1263-4242-87d5-5e5eb3fd7862",
   "metadata": {},
   "outputs": [],
   "source": [
    "grad_fn = jax.jit(jax.grad(loss))"
   ]
  },
  {
   "cell_type": "code",
   "execution_count": 11,
   "id": "ef9d9c6a-fa24-441a-9a6d-c085cc1e9148",
   "metadata": {},
   "outputs": [],
   "source": [
    "def loss_for_eval(params, batch):\n",
    "    preds = model.apply_for_eval(params, batch)\n",
    "    example_loss = model.train_loss(batch, preds)\n",
    "    return jnp.mean(example_loss)"
   ]
  },
  {
   "cell_type": "code",
   "execution_count": 12,
   "id": "75bbf2fe-5c11-4768-864c-8b78a0e46f26",
   "metadata": {},
   "outputs": [],
   "source": [
    "grad_fn_eval = jax.jit(jax.grad(loss_for_eval))"
   ]
  },
  {
   "cell_type": "code",
   "execution_count": 13,
   "id": "7154be2c-b7f3-45ee-a803-d3fc6f5e7a6d",
   "metadata": {},
   "outputs": [],
   "source": [
    "client_ids = train_fd.client_ids()"
   ]
  },
  {
   "cell_type": "code",
   "execution_count": 14,
   "id": "eaecd3b8-365c-4d04-9519-04aee632650c",
   "metadata": {},
   "outputs": [],
   "source": [
    "PLM_dict = {}\n",
    "alphas_dict = {}\n",
    "alpha = 0.5\n",
    "for client_id in client_ids:\n",
    "    alphas_dict[client_id] = jnp.asarray(alpha)"
   ]
  },
  {
   "cell_type": "code",
   "execution_count": 15,
   "id": "1bf4163e-1351-403f-8f2a-ca72f20f1d5f",
   "metadata": {},
   "outputs": [],
   "source": [
    "save_plm_file = '../results/PLM_EMNIST.pickle'"
   ]
  },
  {
   "cell_type": "code",
   "execution_count": 16,
   "id": "b6f3a627-e2af-40da-9613-45df16ba8957",
   "metadata": {},
   "outputs": [],
   "source": [
    "with open(save_plm_file, 'rb') as handle:\n",
    "    PLM_dict = pickle.load(handle)"
   ]
  },
  {
   "cell_type": "code",
   "execution_count": 17,
   "id": "a7a5c9de-55d8-488d-a3a6-efd41f4d0418",
   "metadata": {},
   "outputs": [],
   "source": [
    "# lrs = 10**jnp.arange(-5, 1.5, 0.5)\n",
    "# batch_sizes = [10, 20, 50, 100]"
   ]
  },
  {
   "cell_type": "code",
   "execution_count": 18,
   "id": "8efdf63c-c2c7-4c4c-b59e-327d8d053bf9",
   "metadata": {},
   "outputs": [],
   "source": [
    "# for debugging we set a small grid\n",
    "lrs = [0.1]\n",
    "batch_sizes = [10]"
   ]
  },
  {
   "cell_type": "code",
   "execution_count": 19,
   "id": "398a428d-a3cd-43c8-a3c7-d39318d88c51",
   "metadata": {},
   "outputs": [],
   "source": [
    "num_clients_per_round=2\n",
    "max_rounds = 100"
   ]
  },
  {
   "cell_type": "code",
   "execution_count": 20,
   "id": "fcc96f5b-bbef-462e-9443-ec4477198d54",
   "metadata": {},
   "outputs": [],
   "source": [
    "GridSearch_table_fedmix = jnp.zeros(shape=(len(lrs), len(batch_sizes)))"
   ]
  },
  {
   "cell_type": "code",
   "execution_count": 21,
   "id": "5e0b340a-7a6e-4583-9bbe-0837665b32ed",
   "metadata": {},
   "outputs": [],
   "source": [
    "client_batch_hparams_eval = fedjax.BatchHParams(batch_size=256)"
   ]
  },
  {
   "cell_type": "code",
   "execution_count": 23,
   "id": "cab03f70-ae06-4d1f-98b6-f5fb3426f6f2",
   "metadata": {},
   "outputs": [
    {
     "name": "stdout",
     "output_type": "stream",
     "text": [
      "Learning rate = 0.1\n",
      "Batch size = 10\n",
      "Debug point 3\n",
      "Round 1 / 100\n",
      "[(b'56958d208b65e338:f2010_38', <fedjax.core.client_datasets.ClientDataset object at 0x1510f2daf100>, DeviceArray([4146024105,  967050713], dtype=uint32)), (b'973fa7178a71bc5a:f2358_71', <fedjax.core.client_datasets.ClientDataset object at 0x1510f2daf460>, DeviceArray([2718843009, 1272950319], dtype=uint32))]\n",
      "Debug point 1\n",
      "server_state.params type= <class 'haiku._src.data_structures.FlatMapping'>\n",
      "<class 'fedjax.core.client_datasets.ShuffleRepeatBatchView'>\n",
      "<class 'haiku._src.data_structures.FlatMapping'>\n",
      "Debug point 4\n"
     ]
    },
    {
     "ename": "ValueError",
     "evalue": "Custom node type mismatch: expected type: <class 'haiku._src.data_structures.FlatMapping'>, value: None.",
     "output_type": "error",
     "traceback": [
      "\u001b[0;31m---------------------------------------------------------------------------\u001b[0m",
      "\u001b[0;31mValueError\u001b[0m                                Traceback (most recent call last)",
      "\u001b[0;32m/tmp/ipykernel_50552/2313074658.py\u001b[0m in \u001b[0;36m<module>\u001b[0;34m\u001b[0m\n\u001b[1;32m     13\u001b[0m             \u001b[0mclients\u001b[0m \u001b[0;34m=\u001b[0m \u001b[0mtrain_client_sampler\u001b[0m\u001b[0;34m.\u001b[0m\u001b[0msample\u001b[0m\u001b[0;34m(\u001b[0m\u001b[0;34m)\u001b[0m\u001b[0;34m\u001b[0m\u001b[0;34m\u001b[0m\u001b[0m\n\u001b[1;32m     14\u001b[0m             \u001b[0mprint\u001b[0m\u001b[0;34m(\u001b[0m\u001b[0mclients\u001b[0m\u001b[0;34m)\u001b[0m\u001b[0;34m\u001b[0m\u001b[0;34m\u001b[0m\u001b[0m\n\u001b[0;32m---> 15\u001b[0;31m             \u001b[0mserver_state\u001b[0m\u001b[0;34m,\u001b[0m \u001b[0m_\u001b[0m \u001b[0;34m=\u001b[0m \u001b[0malgorithm\u001b[0m\u001b[0;34m.\u001b[0m\u001b[0mapply\u001b[0m\u001b[0;34m(\u001b[0m\u001b[0mserver_state\u001b[0m\u001b[0;34m,\u001b[0m \u001b[0mclients\u001b[0m\u001b[0;34m)\u001b[0m\u001b[0;34m\u001b[0m\u001b[0;34m\u001b[0m\u001b[0m\n\u001b[0m\u001b[1;32m     16\u001b[0m         \u001b[0mclients\u001b[0m \u001b[0;34m=\u001b[0m \u001b[0mtrain_client_sampler\u001b[0m\u001b[0;34m.\u001b[0m\u001b[0msample\u001b[0m\u001b[0;34m(\u001b[0m\u001b[0;34m)\u001b[0m\u001b[0;34m\u001b[0m\u001b[0;34m\u001b[0m\u001b[0m\n\u001b[1;32m     17\u001b[0m         \u001b[0mclient_data_for_evaluation\u001b[0m \u001b[0;34m=\u001b[0m \u001b[0;34m[\u001b[0m\u001b[0;34m(\u001b[0m\u001b[0malphas_dict\u001b[0m\u001b[0;34m[\u001b[0m\u001b[0mcid\u001b[0m\u001b[0;34m]\u001b[0m\u001b[0;34m,\u001b[0m \u001b[0mPLM_dict\u001b[0m\u001b[0;34m[\u001b[0m\u001b[0mcid\u001b[0m\u001b[0;34m]\u001b[0m\u001b[0;34m,\u001b[0m \u001b[0mcds\u001b[0m\u001b[0;34m)\u001b[0m \u001b[0;32mfor\u001b[0m \u001b[0mcid\u001b[0m\u001b[0;34m,\u001b[0m \u001b[0mcds\u001b[0m\u001b[0;34m,\u001b[0m \u001b[0m_\u001b[0m \u001b[0;32min\u001b[0m \u001b[0mclients\u001b[0m\u001b[0;34m]\u001b[0m\u001b[0;34m\u001b[0m\u001b[0;34m\u001b[0m\u001b[0m\n",
      "\u001b[0;32m~/fedmix_on_fedjax/src/FedMix.py\u001b[0m in \u001b[0;36mapply\u001b[0;34m(server_state, clients)\u001b[0m\n\u001b[1;32m    107\u001b[0m     \u001b[0mprint\u001b[0m\u001b[0;34m(\u001b[0m\u001b[0mtype\u001b[0m\u001b[0;34m(\u001b[0m\u001b[0mbatch_clients\u001b[0m\u001b[0;34m[\u001b[0m\u001b[0;36m0\u001b[0m\u001b[0;34m]\u001b[0m\u001b[0;34m[\u001b[0m\u001b[0;36m1\u001b[0m\u001b[0;34m]\u001b[0m\u001b[0;34m)\u001b[0m\u001b[0;34m)\u001b[0m\u001b[0;34m\u001b[0m\u001b[0;34m\u001b[0m\u001b[0m\n\u001b[1;32m    108\u001b[0m     \u001b[0mprint\u001b[0m\u001b[0;34m(\u001b[0m\u001b[0mtype\u001b[0m\u001b[0;34m(\u001b[0m\u001b[0mbatch_clients\u001b[0m\u001b[0;34m[\u001b[0m\u001b[0;36m0\u001b[0m\u001b[0;34m]\u001b[0m\u001b[0;34m[\u001b[0m\u001b[0;36m2\u001b[0m\u001b[0;34m]\u001b[0m\u001b[0;34m[\u001b[0m\u001b[0;36m1\u001b[0m\u001b[0;34m]\u001b[0m\u001b[0;34m)\u001b[0m\u001b[0;34m)\u001b[0m\u001b[0;34m\u001b[0m\u001b[0;34m\u001b[0m\u001b[0m\n\u001b[0;32m--> 109\u001b[0;31m     \u001b[0;32mfor\u001b[0m \u001b[0mclient_id\u001b[0m\u001b[0;34m,\u001b[0m \u001b[0mgrad\u001b[0m \u001b[0;32min\u001b[0m \u001b[0mtrain_for_each_client\u001b[0m\u001b[0;34m(\u001b[0m\u001b[0mserver_state\u001b[0m\u001b[0;34m.\u001b[0m\u001b[0mparams\u001b[0m\u001b[0;34m,\u001b[0m \u001b[0mbatch_clients\u001b[0m\u001b[0;34m)\u001b[0m\u001b[0;34m:\u001b[0m\u001b[0;34m\u001b[0m\u001b[0;34m\u001b[0m\u001b[0m\n\u001b[0m\u001b[1;32m    110\u001b[0m       \u001b[0mprint\u001b[0m\u001b[0;34m(\u001b[0m\u001b[0;34m'Debug point 2'\u001b[0m\u001b[0;34m)\u001b[0m\u001b[0;34m\u001b[0m\u001b[0;34m\u001b[0m\u001b[0m\n\u001b[1;32m    111\u001b[0m       \u001b[0mfull_grad\u001b[0m \u001b[0;34m=\u001b[0m \u001b[0mtree_util\u001b[0m\u001b[0;34m.\u001b[0m\u001b[0mtree_add\u001b[0m\u001b[0;34m(\u001b[0m\u001b[0mfull_grad\u001b[0m\u001b[0;34m,\u001b[0m \u001b[0mgrad\u001b[0m\u001b[0;34m)\u001b[0m\u001b[0;34m\u001b[0m\u001b[0;34m\u001b[0m\u001b[0m\n",
      "\u001b[0;32m~/fedmix_on_fedjax/env/lib/python3.8/site-packages/fedjax/core/for_each_client.py\u001b[0m in \u001b[0;36mrun\u001b[0;34m(shared_input, clients)\u001b[0m\n\u001b[1;32m    516\u001b[0m \u001b[0;34m\u001b[0m\u001b[0m\n\u001b[1;32m    517\u001b[0m   \u001b[0;32mdef\u001b[0m \u001b[0mrun\u001b[0m\u001b[0;34m(\u001b[0m\u001b[0mshared_input\u001b[0m\u001b[0;34m,\u001b[0m \u001b[0mclients\u001b[0m\u001b[0;34m)\u001b[0m\u001b[0;34m:\u001b[0m\u001b[0;34m\u001b[0m\u001b[0;34m\u001b[0m\u001b[0m\n\u001b[0;32m--> 518\u001b[0;31m     \u001b[0;32mfor\u001b[0m \u001b[0mclient_id\u001b[0m\u001b[0;34m,\u001b[0m \u001b[0mclient_output\u001b[0m\u001b[0;34m,\u001b[0m \u001b[0m_\u001b[0m \u001b[0;32min\u001b[0m \u001b[0mfunc\u001b[0m\u001b[0;34m(\u001b[0m\u001b[0mshared_input\u001b[0m\u001b[0;34m,\u001b[0m \u001b[0mclients\u001b[0m\u001b[0;34m)\u001b[0m\u001b[0;34m:\u001b[0m\u001b[0;34m\u001b[0m\u001b[0;34m\u001b[0m\u001b[0m\n\u001b[0m\u001b[1;32m    519\u001b[0m       \u001b[0;32myield\u001b[0m \u001b[0mclient_id\u001b[0m\u001b[0;34m,\u001b[0m \u001b[0mclient_output\u001b[0m\u001b[0;34m\u001b[0m\u001b[0;34m\u001b[0m\u001b[0m\n\u001b[1;32m    520\u001b[0m \u001b[0;34m\u001b[0m\u001b[0m\n",
      "\u001b[0;32m~/fedmix_on_fedjax/env/lib/python3.8/site-packages/fedjax/core/for_each_client.py\u001b[0m in \u001b[0;36mrun\u001b[0;34m(shared_input, clients)\u001b[0m\n\u001b[1;32m    300\u001b[0m         \u001b[0mp_step_results\u001b[0m \u001b[0;34m=\u001b[0m \u001b[0;34m[\u001b[0m\u001b[0;34m]\u001b[0m\u001b[0;34m\u001b[0m\u001b[0;34m\u001b[0m\u001b[0m\n\u001b[1;32m    301\u001b[0m         \u001b[0;32mfor\u001b[0m \u001b[0mp_batch\u001b[0m\u001b[0;34m,\u001b[0m \u001b[0mp_mask\u001b[0m \u001b[0;32min\u001b[0m \u001b[0mblock\u001b[0m\u001b[0;34m.\u001b[0m\u001b[0mmasked_batches\u001b[0m\u001b[0;34m:\u001b[0m\u001b[0;34m\u001b[0m\u001b[0;34m\u001b[0m\u001b[0m\n\u001b[0;32m--> 302\u001b[0;31m           p_state, p_step_result = p_client_step(\n\u001b[0m\u001b[1;32m    303\u001b[0m               \u001b[0mp_state\u001b[0m\u001b[0;34m,\u001b[0m \u001b[0mjax\u001b[0m\u001b[0;34m.\u001b[0m\u001b[0mdevice_put_sharded\u001b[0m\u001b[0;34m(\u001b[0m\u001b[0mp_batch\u001b[0m\u001b[0;34m,\u001b[0m \u001b[0mdevices\u001b[0m\u001b[0;34m)\u001b[0m\u001b[0;34m,\u001b[0m\u001b[0;34m\u001b[0m\u001b[0;34m\u001b[0m\u001b[0m\n\u001b[1;32m    304\u001b[0m               jax.device_put_sharded(p_mask, devices))\n",
      "    \u001b[0;31m[... skipping hidden 13 frame]\u001b[0m\n",
      "\u001b[0;32m~/fedmix_on_fedjax/env/lib/python3.8/site-packages/fedjax/core/for_each_client.py\u001b[0m in \u001b[0;36mp_client_step\u001b[0;34m(state, batch, mask)\u001b[0m\n\u001b[1;32m    286\u001b[0m     \u001b[0;32mdef\u001b[0m \u001b[0mp_client_step\u001b[0m\u001b[0;34m(\u001b[0m\u001b[0mstate\u001b[0m\u001b[0;34m,\u001b[0m \u001b[0mbatch\u001b[0m\u001b[0;34m,\u001b[0m \u001b[0mmask\u001b[0m\u001b[0;34m)\u001b[0m\u001b[0;34m:\u001b[0m\u001b[0;34m\u001b[0m\u001b[0;34m\u001b[0m\u001b[0m\n\u001b[1;32m    287\u001b[0m       \u001b[0mnext_state\u001b[0m\u001b[0;34m,\u001b[0m \u001b[0mstep_result\u001b[0m \u001b[0;34m=\u001b[0m \u001b[0mclient_step\u001b[0m\u001b[0;34m(\u001b[0m\u001b[0mstate\u001b[0m\u001b[0;34m,\u001b[0m \u001b[0mbatch\u001b[0m\u001b[0;34m)\u001b[0m\u001b[0;34m\u001b[0m\u001b[0;34m\u001b[0m\u001b[0m\n\u001b[0;32m--> 288\u001b[0;31m       next_state = jax.tree_util.tree_multimap(\n\u001b[0m\u001b[1;32m    289\u001b[0m           functools.partial(jnp.where, mask), next_state, state)\n\u001b[1;32m    290\u001b[0m       step_result = jax.tree_util.tree_map(\n",
      "    \u001b[0;31m[... skipping hidden 1 frame]\u001b[0m\n",
      "\u001b[0;32m~/fedmix_on_fedjax/env/lib/python3.8/site-packages/jax/_src/tree_util.py\u001b[0m in \u001b[0;36m<listcomp>\u001b[0;34m(.0)\u001b[0m\n\u001b[1;32m    175\u001b[0m   \"\"\"\n\u001b[1;32m    176\u001b[0m   \u001b[0mleaves\u001b[0m\u001b[0;34m,\u001b[0m \u001b[0mtreedef\u001b[0m \u001b[0;34m=\u001b[0m \u001b[0mtree_flatten\u001b[0m\u001b[0;34m(\u001b[0m\u001b[0mtree\u001b[0m\u001b[0;34m,\u001b[0m \u001b[0mis_leaf\u001b[0m\u001b[0;34m)\u001b[0m\u001b[0;34m\u001b[0m\u001b[0;34m\u001b[0m\u001b[0m\n\u001b[0;32m--> 177\u001b[0;31m   \u001b[0mall_leaves\u001b[0m \u001b[0;34m=\u001b[0m \u001b[0;34m[\u001b[0m\u001b[0mleaves\u001b[0m\u001b[0;34m]\u001b[0m \u001b[0;34m+\u001b[0m \u001b[0;34m[\u001b[0m\u001b[0mtreedef\u001b[0m\u001b[0;34m.\u001b[0m\u001b[0mflatten_up_to\u001b[0m\u001b[0;34m(\u001b[0m\u001b[0mr\u001b[0m\u001b[0;34m)\u001b[0m \u001b[0;32mfor\u001b[0m \u001b[0mr\u001b[0m \u001b[0;32min\u001b[0m \u001b[0mrest\u001b[0m\u001b[0;34m]\u001b[0m\u001b[0;34m\u001b[0m\u001b[0;34m\u001b[0m\u001b[0m\n\u001b[0m\u001b[1;32m    178\u001b[0m   \u001b[0;32mreturn\u001b[0m \u001b[0mtreedef\u001b[0m\u001b[0;34m.\u001b[0m\u001b[0munflatten\u001b[0m\u001b[0;34m(\u001b[0m\u001b[0mf\u001b[0m\u001b[0;34m(\u001b[0m\u001b[0;34m*\u001b[0m\u001b[0mxs\u001b[0m\u001b[0;34m)\u001b[0m \u001b[0;32mfor\u001b[0m \u001b[0mxs\u001b[0m \u001b[0;32min\u001b[0m \u001b[0mzip\u001b[0m\u001b[0;34m(\u001b[0m\u001b[0;34m*\u001b[0m\u001b[0mall_leaves\u001b[0m\u001b[0;34m)\u001b[0m\u001b[0;34m)\u001b[0m\u001b[0;34m\u001b[0m\u001b[0;34m\u001b[0m\u001b[0m\n\u001b[1;32m    179\u001b[0m \u001b[0;34m\u001b[0m\u001b[0m\n",
      "\u001b[0;31mValueError\u001b[0m: Custom node type mismatch: expected type: <class 'haiku._src.data_structures.FlatMapping'>, value: None."
     ]
    }
   ],
   "source": [
    "for lr_id, lr in enumerate(lrs):\n",
    "    print('Learning rate = {}'.format(lr))\n",
    "    for b_id, batch_size in enumerate(batch_sizes):\n",
    "        print('Batch size = {}'.format(batch_size))\n",
    "        server_optimizer = fedjax.optimizers.adam(learning_rate=lr, b1=0.9, b2=0.999, eps=10**(-4))\n",
    "        train_client_sampler = fedjax.client_samplers.UniformGetClientSampler(fd=train_fd, num_clients=num_clients_per_round, seed=0)\n",
    "        client_batch_hparams = fedjax.ShuffleRepeatBatchHParams(batch_size=batch_size, num_steps=1)\n",
    "        algorithm = FedMix.fedmix(grad_fn, server_optimizer, client_batch_hparams, PLM_dict, alphas_dict)\n",
    "        init_params = model.init(jax.random.PRNGKey(11))\n",
    "        server_state = algorithm.init(init_params)\n",
    "        for round_num in range(max_rounds):\n",
    "            print('Round {} / {}'.format(round_num + 1, max_rounds))\n",
    "            clients = train_client_sampler.sample()\n",
    "            print(clients)\n",
    "            server_state, _ = algorithm.apply(server_state, clients)\n",
    "        clients = train_client_sampler.sample()\n",
    "        client_data_for_evaluation = [(alphas_dict[cid], PLM_dict[cid], cds) for cid, cds, _ in clients]\n",
    "        grid_search_metrics = FedMix.evaluate_model(model, server_state.params, client_data_for_evaluation, client_batch_hparams_eval)\n",
    "        GridSearch_table_fedmix[lr_id, b_id] = grid_search_metrics['accuracy']"
   ]
  },
  {
   "cell_type": "code",
   "execution_count": null,
   "id": "bc89155a-d61e-41e2-8109-d536b40c3b36",
   "metadata": {},
   "outputs": [],
   "source": []
  },
  {
   "cell_type": "code",
   "execution_count": null,
   "id": "ea27135f-387a-4363-bff1-2b272c3c1dc7",
   "metadata": {},
   "outputs": [],
   "source": []
  },
  {
   "cell_type": "code",
   "execution_count": null,
   "id": "5e4bcfbd-4c74-432c-929a-26230b851e81",
   "metadata": {},
   "outputs": [],
   "source": []
  },
  {
   "cell_type": "code",
   "execution_count": null,
   "id": "45487ffc-ce8d-4060-b078-70e9ef52aa26",
   "metadata": {},
   "outputs": [],
   "source": []
  },
  {
   "cell_type": "code",
   "execution_count": null,
   "id": "f4dc0a65-ff98-44df-bc4d-f1c5662ead69",
   "metadata": {},
   "outputs": [],
   "source": []
  },
  {
   "cell_type": "code",
   "execution_count": null,
   "id": "63ccf1cc-c9f9-4b0c-bc05-d8fca875d76a",
   "metadata": {},
   "outputs": [],
   "source": []
  },
  {
   "cell_type": "code",
   "execution_count": null,
   "id": "ab80f91c-f519-45c1-adba-d82208c01de6",
   "metadata": {},
   "outputs": [],
   "source": []
  },
  {
   "cell_type": "code",
   "execution_count": null,
   "id": "a7728866-d952-4eed-85df-d247a8cac2e7",
   "metadata": {},
   "outputs": [],
   "source": [
    "\n",
    "for round_num in range(1, 3):\n",
    "# Sample 10 clients per round without replacement for training.\n",
    "    clients = train_client_sampler.sample()\n",
    "    print('debug')\n",
    "    # Run one round of training on sampled clients.\n",
    "    server_state, client_diagnostics = algorithm.apply(server_state, clients);\n",
    "    # print(f'[round {round_num}]')\n",
    "    # Optionally print client diagnostics if curious about each client's model\n",
    "    # update's l2 norm.\n",
    "    print(f'[round {round_num}] client_diagnostics={client_diagnostics}')"
   ]
  },
  {
   "cell_type": "code",
   "execution_count": null,
   "id": "210a6139-889e-4499-bff2-ec43128bc893",
   "metadata": {},
   "outputs": [],
   "source": []
  }
 ],
 "metadata": {
  "kernelspec": {
   "display_name": "Python 3 (ipykernel)",
   "language": "python",
   "name": "python3"
  },
  "language_info": {
   "codemirror_mode": {
    "name": "ipython",
    "version": 3
   },
   "file_extension": ".py",
   "mimetype": "text/x-python",
   "name": "python",
   "nbconvert_exporter": "python",
   "pygments_lexer": "ipython3",
   "version": "3.8.12"
  }
 },
 "nbformat": 4,
 "nbformat_minor": 5
}
